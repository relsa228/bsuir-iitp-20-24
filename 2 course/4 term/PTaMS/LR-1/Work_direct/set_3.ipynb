{
 "cells": [
  {
   "cell_type": "code",
   "execution_count": 1,
   "id": "a6e4cedc-b007-4938-9391-dbb1e668cb92",
   "metadata": {},
   "outputs": [],
   "source": [
    "import pandas as pd"
   ]
  },
  {
   "cell_type": "code",
   "execution_count": 2,
   "id": "4df49981-67b0-424c-9273-e036039bb70d",
   "metadata": {},
   "outputs": [],
   "source": [
    "import matplotlib.pyplot as plt"
   ]
  },
  {
   "cell_type": "code",
   "execution_count": 3,
   "id": "a14065e0-0f7b-48d0-863e-8e7f58a48016",
   "metadata": {},
   "outputs": [],
   "source": [
    "data_set = pd.read_csv('set_3.csv')"
   ]
  },
  {
   "cell_type": "code",
   "execution_count": 4,
   "id": "7e58eddc-b497-4bcf-97a2-e1cbe475622d",
   "metadata": {},
   "outputs": [],
   "source": [
    "num_set = []\n",
    "for value in data_set:\n",
    "    value_mod = value.replace('.', '', 2)\n",
    "    num_set.append(float(value_mod))\n"
   ]
  },
  {
   "cell_type": "code",
   "execution_count": 5,
   "id": "96051be2-e1d3-421f-a814-a1c9404ac8fd",
   "metadata": {},
   "outputs": [
    {
     "name": "stdout",
     "output_type": "stream",
     "text": [
      "Максимальное значение случайной величины: 6184941.0\n",
      "Минимальное значение случайной величины: -9711631.0\n"
     ]
    }
   ],
   "source": [
    "max_value = max(num_set)\n",
    "min_value = min(num_set)\n",
    "print(f\"Максимальное значение случайной величины: {max_value}\")\n",
    "print(f\"Минимальное значение случайной величины: {min_value}\")"
   ]
  },
  {
   "cell_type": "code",
   "execution_count": 6,
   "id": "304acbe3-dd41-4be0-be0d-fc40de4d4fff",
   "metadata": {},
   "outputs": [
    {
     "name": "stdout",
     "output_type": "stream",
     "text": [
      "Интервалы, которые выбраны для сглаживания: [[-9711631.0, -8916802.4], [-8916802.4, -8121973.800000001], [-8121973.800000001, -7327145.200000001], [-7327145.200000001, -6532316.6000000015], [-6532316.6000000015, -5737488.000000002], [-5737488.000000002, -4942659.400000002], [-4942659.400000002, -4147830.800000002], [-4147830.800000002, -3353002.200000002], [-3353002.200000002, -2558173.600000002], [-2558173.600000002, -1763345.0000000019], [-1763345.0000000019, -968516.4000000019], [-968516.4000000019, -173687.8000000019], [-173687.8000000019, 621140.7999999981], [621140.7999999981, 1415969.399999998], [1415969.399999998, 2210797.999999998], [2210797.999999998, 3005626.599999998], [3005626.599999998, 3800455.1999999983], [3800455.1999999983, 4595283.799999998], [4595283.799999998, 5390112.399999998], [5390112.399999998, 6184940.999999997]]\n"
     ]
    }
   ],
   "source": [
    "num_of_intervals = 20\n",
    "\n",
    "intervals = []\n",
    "step = (max_value-min_value)/num_of_intervals\n",
    "interval_start = min_value\n",
    "\n",
    "for i in range(0, num_of_intervals):\n",
    "    interval = [interval_start, interval_start + step]\n",
    "    intervals.append(interval)\n",
    "    interval_start += step \n",
    "    \n",
    "print(f\"Интервалы, которые выбраны для сглаживания: {intervals}\")"
   ]
  },
  {
   "cell_type": "code",
   "execution_count": 7,
   "id": "84b8eccc-ae32-4956-86c8-5f3d69ea7f21",
   "metadata": {},
   "outputs": [
    {
     "name": "stdout",
     "output_type": "stream",
     "text": [
      "Вероятности попадания элементов на интервалы: [1e-05, 0.0, 0.0, 0.0, 0.0, 0.0, 0.0, 0.0, 0.0, 3e-05, 0.0011, 0.00376, 0.91791, 0.05765, 0.01412, 0.00388, 0.00106, 0.00029, 0.00016, 2e-05]\n"
     ]
    }
   ],
   "source": [
    "interval_count = [0 for i in range(0, num_of_intervals)]\n",
    "\n",
    "for i in num_set:\n",
    "    for j in range(0, num_of_intervals):\n",
    "        if i < intervals[j][1] and i >= intervals[j][0]:\n",
    "            interval_count[j] += 1\n",
    "            \n",
    "for i in range(0, num_of_intervals):\n",
    "    interval_count[i] = interval_count[i]/len(num_set)\n",
    "print(f\"Вероятности попадания элементов на интервалы: {interval_count}\")            "
   ]
  },
  {
   "cell_type": "code",
   "execution_count": 8,
   "id": "79e9c415-1d3f-434b-9518-9a94ef82cdd8",
   "metadata": {},
   "outputs": [
    {
     "data": {
      "image/png": "[encoded data removed]",
      "text/plain": [
       "<Figure size 864x432 with 1 Axes>"
      ]
     },
     "metadata": {},
     "output_type": "display_data"
    }
   ],
   "source": [
    "%matplotlib inline\n",
    "import numpy as np\n",
    "import scipy.stats as stats\n",
    "import matplotlib.pyplot as plt\n",
    "\n",
    "x = [i for i in range (1, num_of_intervals + 1)]\n",
    "y = interval_count\n",
    "\n",
    "fig = plt.figure()                      #гистограмма\n",
    "ax_core = fig.add_subplot()\n",
    "ax_core.bar(x, y)\n",
    "ax_core.set_facecolor('seashell')\n",
    "fig.set_facecolor('floralwhite')\n",
    "fig.set_figwidth(12)    \n",
    "fig.set_figheight(6)\n",
    "\n",
    "plt.plot(x, y, color=\"orange\")          #график распределения гистограммы\n",
    "plt.plot(x, stats.expon.cdf(y), color=\"red\")                     \n",
    "\n",
    "plt.show()\n"
   ]
  },
  {
   "cell_type": "code",
   "execution_count": 9,
   "id": "b4d478b1-80af-4eec-9664-4b1b1c21c032",
   "metadata": {},
   "outputs": [],
   "source": [
    "#Выдвигаем предположение, что случайная величина имеет экспоненциальное распределение."
   ]
  },
  {
   "cell_type": "code",
   "execution_count": 10,
   "id": "793fb3f3-a955-4487-9f4a-6ba2d9ece083",
   "metadata": {},
   "outputs": [
    {
     "name": "stdout",
     "output_type": "stream",
     "text": [
      "Хи-квадрат: 75024.50733897941\n"
     ]
    }
   ],
   "source": [
    "#Критерий Пирсона\n",
    "\n",
    "x_empirical = interval_count\n",
    "x_theoretical = stats.geom.cdf(x, y)\n",
    "\n",
    "for i in x_theoretical:\n",
    "    if np.isnan(i):\n",
    "        i = 0\n",
    "\n",
    "сhi_squared = 0\n",
    "\n",
    "for i in range(0, 20):\n",
    "    if x_empirical[i] != 0:\n",
    "        сhi_squared += (x_theoretical[i] - x_empirical[i])**2/x_theoretical[i]\n",
    "    \n",
    "сhi_squared *= len(num_set)\n",
    "print(f\"Хи-квадрат: {сhi_squared}\")"
   ]
  },
  {
   "cell_type": "code",
   "execution_count": 11,
   "id": "8de1b075-be31-4a66-8e8b-d8c2d1615e26",
   "metadata": {},
   "outputs": [],
   "source": [
    "#При данных степенях свободы 9 и альфа 0.01 значение хи-квадрата должно быть менее 21.07\n",
    "\n",
    "#Полученный хи-квадрат несоизмеримо больше, что говорит о том, что различие с теоретическим вызвано неслучайным явлением"
   ]
  },
  {
   "cell_type": "code",
   "execution_count": 12,
   "id": "843f6b94-ca05-47d5-ad70-b2426b6bbae8",
   "metadata": {},
   "outputs": [
    {
     "name": "stdout",
     "output_type": "stream",
     "text": [
      "Несмещенная состоятельная оценка мат ожидания: 223559.11149\n"
     ]
    }
   ],
   "source": [
    "#Несмещенную состоятельную оценку мат ожидания\n",
    "\n",
    "gen_avg = 0\n",
    "for i in num_set:\n",
    "    gen_avg += i\n",
    "\n",
    "gen_avg /= len(num_set)\n",
    "print(f\"Несмещенная состоятельная оценка мат ожидания: {gen_avg}\")"
   ]
  },
  {
   "cell_type": "code",
   "execution_count": 13,
   "id": "f4d662e2-153a-48a4-ad83-9ebd6c7e86c1",
   "metadata": {},
   "outputs": [
    {
     "name": "stdout",
     "output_type": "stream",
     "text": [
      "Смещенная состоятельная оценка дисперсии: 364256.96204006637\n"
     ]
    }
   ],
   "source": [
    "#Найдем смещенную состоятельную оценку дисперсии\n",
    "\n",
    "gen_dispersion = 0\n",
    "for i in num_set:\n",
    "    gen_dispersion += (i - gen_avg)**2\n",
    "\n",
    "gen_dispersion /= len(num_set)\n",
    "gen_dispersion = np.sqrt(gen_dispersion) \n",
    "\n",
    "print(f\"Смещенная состоятельная оценка дисперсии: {gen_dispersion}\")"
   ]
  },
  {
   "cell_type": "code",
   "execution_count": 14,
   "id": "8e46a3ec-ad08-4729-b298-1fd9cd242641",
   "metadata": {},
   "outputs": [
    {
     "name": "stdout",
     "output_type": "stream",
     "text": [
      "Несмещенная состоятельняа оценка дисперсии: 364258.78333853633\n"
     ]
    }
   ],
   "source": [
    "#Найдем несмещенную состоятельную оценку дисперсии\n",
    "\n",
    "point_dispersion = 0\n",
    "for i in num_set:\n",
    "    point_dispersion += (i - gen_avg)**2\n",
    "    \n",
    "point_dispersion /= len(num_set) - 1\n",
    "point_dispersion = np.sqrt(point_dispersion) \n",
    "\n",
    "print(f\"Несмещенная состоятельняа оценка дисперсии: {point_dispersion}\")"
   ]
  },
  {
   "cell_type": "code",
   "execution_count": 15,
   "id": "a109c27b-f7d9-4063-a3f3-e4e82fe192c8",
   "metadata": {},
   "outputs": [
    {
     "name": "stdout",
     "output_type": "stream",
     "text": [
      "Cреднее квадратичное отклонение: 603.5385516589113\n"
     ]
    }
   ],
   "source": [
    "#Найдем среднее квадратичное отклонение\n",
    "\n",
    "avg_sq = np.sqrt(point_dispersion)\n",
    "print(f\"Cреднее квадратичное отклонение: {avg_sq}\")"
   ]
  },
  {
   "cell_type": "code",
   "execution_count": 16,
   "id": "83f1d239-a914-4d0f-b073-0e1fb4e6e5d3",
   "metadata": {},
   "outputs": [
    {
     "name": "stdout",
     "output_type": "stream",
     "text": [
      "Дельта: 2257.696458867897\n"
     ]
    }
   ],
   "source": [
    "#Имеем n = 100000 и доверительную вероятность 0.95 получаем следующее значение распределения Стьюдента\n",
    "\n",
    "t = 1.9599877077718446\n",
    "\n",
    "delta = point_dispersion*t/np.sqrt(len(num_set) - 1)\n",
    "print(f\"Дельта: {delta}\")"
   ]
  },
  {
   "cell_type": "code",
   "execution_count": 17,
   "id": "552dd049-9f81-412e-9c68-c784e054b4c5",
   "metadata": {},
   "outputs": [
    {
     "name": "stdout",
     "output_type": "stream",
     "text": [
      "221301.4150311321 <= m_x < 225816.8079488679\n"
     ]
    }
   ],
   "source": [
    "#Тогда доверительный интервал для мат ожидания\n",
    "\n",
    "x_1 = gen_avg - delta\n",
    "x_2 = gen_avg + delta\n",
    "\n",
    "print(f\"{x_1} <= m_x < {x_2}\")"
   ]
  },
  {
   "cell_type": "code",
   "execution_count": 18,
   "id": "b2348f79-ab44-4026-a0c3-0b978bcffef6",
   "metadata": {},
   "outputs": [
    {
     "name": "stdout",
     "output_type": "stream",
     "text": [
      "1364542523439.6113 <= D_x < 1290948960661.7642\n"
     ]
    }
   ],
   "source": [
    "#Найдем доверительный интервал для дисперсии\n",
    "\n",
    "#Хи-квадрат для вероятности (1 - 0.95)/2 и степени свободы 10000 - 1\n",
    "chi_1 = 9723.732237\n",
    "\n",
    "#Хи-квадрат для вероятности (1 + 0.95)/ и степени свободы 10000 - 1\n",
    "chi_2 = 10278.05632\n",
    "\n",
    "print(f\"{len(num_set)*point_dispersion**2/chi_1} <= D_x < {len(num_set)*point_dispersion**2/chi_2}\")"
   ]
  },
  {
   "cell_type": "code",
   "execution_count": null,
   "id": "09a2fccd-1e2b-460a-bd30-25ad8dd9be14",
   "metadata": {},
   "outputs": [],
   "source": []
  }
 ],
 "metadata": {
  "kernelspec": {
   "display_name": "Python 3 (ipykernel)",
   "language": "python",
   "name": "python3"
  },
  "language_info": {
   "codemirror_mode": {
    "name": "ipython",
    "version": 3
   },
   "file_extension": ".py",
   "mimetype": "text/x-python",
   "name": "python",
   "nbconvert_exporter": "python",
   "pygments_lexer": "ipython3",
   "version": "3.10.4"
  }
 },
 "nbformat": 4,
 "nbformat_minor": 5
}

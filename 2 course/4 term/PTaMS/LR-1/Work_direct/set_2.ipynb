{
 "cells": [
  {
   "cell_type": "code",
   "execution_count": 1,
   "id": "a6e4cedc-b007-4938-9391-dbb1e668cb92",
   "metadata": {},
   "outputs": [],
   "source": [
    "import pandas as pd"
   ]
  },
  {
   "cell_type": "code",
   "execution_count": 2,
   "id": "4df49981-67b0-424c-9273-e036039bb70d",
   "metadata": {},
   "outputs": [],
   "source": [
    "import matplotlib.pyplot as plt"
   ]
  },
  {
   "cell_type": "code",
   "execution_count": 3,
   "id": "a14065e0-0f7b-48d0-863e-8e7f58a48016",
   "metadata": {},
   "outputs": [],
   "source": [
    "data_set = pd.read_csv('set_2.csv')"
   ]
  },
  {
   "cell_type": "code",
   "execution_count": 4,
   "id": "7e58eddc-b497-4bcf-97a2-e1cbe475622d",
   "metadata": {},
   "outputs": [],
   "source": [
    "num_set = []\n",
    "for value in data_set:\n",
    "    #value_mod = value.replace('.', '', 2) #Для третьего сета\n",
    "    num_set.append(float(value))\n"
   ]
  },
  {
   "cell_type": "code",
   "execution_count": 5,
   "id": "96051be2-e1d3-421f-a814-a1c9404ac8fd",
   "metadata": {},
   "outputs": [
    {
     "name": "stdout",
     "output_type": "stream",
     "text": [
      "Максимальное значение случайной величины: 698.777979\n",
      "Минимальное значение случайной величины: -1071.786686\n"
     ]
    }
   ],
   "source": [
    "max_value = max(num_set)\n",
    "min_value = min(num_set)\n",
    "print(f\"Максимальное значение случайной величины: {max_value}\")\n",
    "print(f\"Минимальное значение случайной величины: {min_value}\")"
   ]
  },
  {
   "cell_type": "code",
   "execution_count": 6,
   "id": "304acbe3-dd41-4be0-be0d-fc40de4d4fff",
   "metadata": {},
   "outputs": [
    {
     "name": "stdout",
     "output_type": "stream",
     "text": [
      "Интервалы, которые выбраны для сглаживания: [[-1071.786686, -983.25845275], [-983.25845275, -894.7302195], [-894.7302195, -806.20198625], [-806.20198625, -717.673753], [-717.673753, -629.1455197500001], [-629.1455197500001, -540.6172865000001], [-540.6172865000001, -452.0890532500001], [-452.0890532500001, -363.56082000000015], [-363.56082000000015, -275.0325867500002], [-275.0325867500002, -186.50435350000018], [-186.50435350000018, -97.97612025000018], [-97.97612025000018, -9.44788700000018], [-9.44788700000018, 79.08034624999982], [79.08034624999982, 167.60857949999982], [167.60857949999982, 256.1368127499998], [256.1368127499998, 344.66504599999985], [344.66504599999985, 433.1932792499998], [433.1932792499998, 521.7215124999998], [521.7215124999998, 610.2497457499998], [610.2497457499998, 698.7779789999997]]\n"
     ]
    }
   ],
   "source": [
    "num_of_intervals = 20\n",
    "\n",
    "intervals = []\n",
    "step = (max_value-min_value)/num_of_intervals\n",
    "interval_start = min_value\n",
    "\n",
    "for i in range(0, num_of_intervals):\n",
    "    interval = [interval_start, interval_start + step]\n",
    "    intervals.append(interval)\n",
    "    interval_start += step \n",
    "    \n",
    "print(f\"Интервалы, которые выбраны для сглаживания: {intervals}\")"
   ]
  },
  {
   "cell_type": "code",
   "execution_count": 7,
   "id": "84b8eccc-ae32-4956-86c8-5f3d69ea7f21",
   "metadata": {},
   "outputs": [
    {
     "name": "stdout",
     "output_type": "stream",
     "text": [
      "Вероятности попадания элементов на интервалы: [0.0003, 0.0, 0.0001, 0.0, 0.0007, 0.0019, 0.0039, 0.0027, 0.0005, 0.0083, 0.0722, 0.2827, 0.3833, 0.1944, 0.0397, 0.0063, 0.0023, 0.0004, 0.0001, 0.0001]\n"
     ]
    }
   ],
   "source": [
    "interval_count = [0 for i in range(0, num_of_intervals)]\n",
    "\n",
    "for i in num_set:\n",
    "    for j in range(0, num_of_intervals):\n",
    "        if i < intervals[j][1] and i >= intervals[j][0]:\n",
    "            interval_count[j] += 1\n",
    "            \n",
    "for i in range(0, num_of_intervals):\n",
    "    interval_count[i] = interval_count[i]/len(num_set)\n",
    "print(f\"Вероятности попадания элементов на интервалы: {interval_count}\")            "
   ]
  },
  {
   "cell_type": "code",
   "execution_count": 8,
   "id": "79e9c415-1d3f-434b-9518-9a94ef82cdd8",
   "metadata": {},
   "outputs": [
    {
     "data": {
      "image/png": "[encoded data removed]",
      "text/plain": [
       "<Figure size 864x432 with 1 Axes>"
      ]
     },
     "metadata": {},
     "output_type": "display_data"
    }
   ],
   "source": [
    "%matplotlib inline\n",
    "import numpy as np\n",
    "import scipy.stats as stats\n",
    "import matplotlib.pyplot as plt\n",
    "\n",
    "x = [i for i in range (1, num_of_intervals + 1)]\n",
    "y = interval_count\n",
    "\n",
    "fig = plt.figure()                      #гистограмма\n",
    "ax_core = fig.add_subplot()\n",
    "ax_core.bar(x, y)\n",
    "ax_core.set_facecolor('seashell')\n",
    "fig.set_facecolor('floralwhite')\n",
    "fig.set_figwidth(12)    \n",
    "fig.set_figheight(6)\n",
    "\n",
    "plt.plot(x, y, color=\"orange\")          #график распределения гистограммы\n",
    "                               \n",
    "plist = stats.norm.cdf(y)            #нормальное распределение\n",
    "plt.plot(x, plist, color=\"purple\")\n",
    "plt.show()\n"
   ]
  },
  {
   "cell_type": "code",
   "execution_count": 9,
   "id": "b4d478b1-80af-4eec-9664-4b1b1c21c032",
   "metadata": {},
   "outputs": [],
   "source": [
    "#Выдвигаем предположение, что случайная величина имеет нормальное распределение."
   ]
  },
  {
   "cell_type": "code",
   "execution_count": 10,
   "id": "793fb3f3-a955-4487-9f4a-6ba2d9ece083",
   "metadata": {},
   "outputs": [
    {
     "name": "stdout",
     "output_type": "stream",
     "text": [
      "Хи-квадрат: 25263.240941969634\n"
     ]
    }
   ],
   "source": [
    "#Критерий Пирсона\n",
    "\n",
    "x_empirical = interval_count\n",
    "x_theoretical = stats.geom.cdf(x, y)\n",
    "\n",
    "for i in x_theoretical:\n",
    "    if np.isnan(i):\n",
    "        i = 0\n",
    "\n",
    "сhi_squared = 0\n",
    "\n",
    "for i in range(0, 20):\n",
    "    if x_empirical[i] != 0:\n",
    "        сhi_squared += (x_theoretical[i] - x_empirical[i])**2/x_theoretical[i]\n",
    "    \n",
    "сhi_squared *= len(num_set)\n",
    "print(f\"Хи-квадрат: {сhi_squared}\")"
   ]
  },
  {
   "cell_type": "code",
   "execution_count": 11,
   "id": "9727eda5-f279-4969-b224-86e0b6f13108",
   "metadata": {},
   "outputs": [],
   "source": [
    "#При данных степенях свободы 9 и альфа 0.01 значение хи-квадрата должно быть менее 21.07\n",
    "\n",
    "#Полученный хи-квадрат несоизмеримо больше, что говорит о том, что различие с теоретическим вызвано неслучайным явлением"
   ]
  },
  {
   "cell_type": "code",
   "execution_count": 12,
   "id": "92af04a1-0a32-4261-b17a-bfadede98f09",
   "metadata": {},
   "outputs": [
    {
     "name": "stdout",
     "output_type": "stream",
     "text": [
      "Несмещенная состоятельная оценка мат ожидания: 16.243283213799984\n"
     ]
    }
   ],
   "source": [
    "#Несмещенную состоятельную оценку мат ожидания\n",
    "\n",
    "gen_avg = 0\n",
    "for i in num_set:\n",
    "    gen_avg += i\n",
    "\n",
    "gen_avg /= len(num_set)\n",
    "print(f\"Несмещенная состоятельная оценка мат ожидания: {gen_avg}\")"
   ]
  },
  {
   "cell_type": "code",
   "execution_count": 13,
   "id": "6fccfe42-8d9d-4c34-925a-6d07eba3827d",
   "metadata": {},
   "outputs": [
    {
     "name": "stdout",
     "output_type": "stream",
     "text": [
      "Смещенная состоятельная оценка дисперсии: 104.53422706297388\n"
     ]
    }
   ],
   "source": [
    "#Найдем смещенную состоятельную оценку дисперсии\n",
    "\n",
    "gen_dispersion = 0\n",
    "for i in num_set:\n",
    "    gen_dispersion += (i - gen_avg)**2\n",
    "\n",
    "gen_dispersion /= len(num_set)\n",
    "gen_dispersion = np.sqrt(gen_dispersion) \n",
    "\n",
    "print(f\"Смещенная состоятельная оценка дисперсии: {gen_dispersion}\")"
   ]
  },
  {
   "cell_type": "code",
   "execution_count": 14,
   "id": "3a3d4e4b-30c6-48a7-9177-547a80a49385",
   "metadata": {},
   "outputs": [
    {
     "name": "stdout",
     "output_type": "stream",
     "text": [
      "Несмещенная состоятельняа оценка дисперсии: 104.53945416636304\n"
     ]
    }
   ],
   "source": [
    "#Найдем несмещенную состоятельную оценку дисперсии\n",
    "\n",
    "point_dispersion = 0\n",
    "for i in num_set:\n",
    "    point_dispersion += (i - gen_avg)**2\n",
    "    \n",
    "point_dispersion /= len(num_set) - 1\n",
    "point_dispersion = np.sqrt(point_dispersion) \n",
    "\n",
    "print(f\"Несмещенная состоятельняа оценка дисперсии: {point_dispersion}\")"
   ]
  },
  {
   "cell_type": "code",
   "execution_count": 15,
   "id": "0d39870b-774e-4e7c-970b-da72d7b4fa94",
   "metadata": {},
   "outputs": [
    {
     "name": "stdout",
     "output_type": "stream",
     "text": [
      "Cреднее квадратичное отклонение: 10.224453734374421\n"
     ]
    }
   ],
   "source": [
    "#Найдем среднее квадратичное отклонение\n",
    "\n",
    "avg_sq = np.sqrt(point_dispersion)\n",
    "print(f\"Cреднее квадратичное отклонение: {avg_sq}\")"
   ]
  },
  {
   "cell_type": "code",
   "execution_count": 16,
   "id": "4c20f614-ddb7-47ae-9c02-85330bba3e8a",
   "metadata": {},
   "outputs": [
    {
     "name": "stdout",
     "output_type": "stream",
     "text": [
      "Дельта: 2.049062907139311\n"
     ]
    }
   ],
   "source": [
    "#Имеем n = 100000 и доверительную вероятность 0.95 получаем следующее значение распределения Стьюдента\n",
    "\n",
    "t = 1.9599877077718446\n",
    "\n",
    "delta = point_dispersion*t/np.sqrt(len(num_set) - 1)\n",
    "print(f\"Дельта: {delta}\")"
   ]
  },
  {
   "cell_type": "code",
   "execution_count": 17,
   "id": "ace49b26-c084-4545-8c73-d9f9755a309b",
   "metadata": {},
   "outputs": [
    {
     "name": "stdout",
     "output_type": "stream",
     "text": [
      "14.194220306660673 <= m_x < 18.292346120939296\n"
     ]
    }
   ],
   "source": [
    "#Тогда доверительный интервал для мат ожидания\n",
    "\n",
    "x_1 = gen_avg - delta\n",
    "x_2 = gen_avg + delta\n",
    "\n",
    "print(f\"{x_1} <= m_x < {x_2}\")"
   ]
  },
  {
   "cell_type": "code",
   "execution_count": 18,
   "id": "e1dc73ef-ef0b-417e-90f4-3017d4da90b5",
   "metadata": {},
   "outputs": [
    {
     "name": "stdout",
     "output_type": "stream",
     "text": [
      "11238.994668957295 <= D_x < 10632.84451568477\n"
     ]
    }
   ],
   "source": [
    "#Найдем доверительный интервал для дисперсии\n",
    "\n",
    "#Хи-квадрат для вероятности (1 - 0.95)/2 и степени свободы 10000 - 1\n",
    "chi_1 = 9723.732237\n",
    "\n",
    "#Хи-квадрат для вероятности (1 + 0.95)/ и степени свободы 10000 - 1\n",
    "chi_2 = 10278.05632\n",
    "\n",
    "print(f\"{len(num_set)*point_dispersion**2/chi_1} <= D_x < {len(num_set)*point_dispersion**2/chi_2}\")"
   ]
  },
  {
   "cell_type": "code",
   "execution_count": null,
   "id": "7e3dbc90-72d9-4e8c-be96-25c1c7b9e88a",
   "metadata": {},
   "outputs": [],
   "source": []
  }
 ],
 "metadata": {
  "kernelspec": {
   "display_name": "Python 3 (ipykernel)",
   "language": "python",
   "name": "python3"
  },
  "language_info": {
   "codemirror_mode": {
    "name": "ipython",
    "version": 3
   },
   "file_extension": ".py",
   "mimetype": "text/x-python",
   "name": "python",
   "nbconvert_exporter": "python",
   "pygments_lexer": "ipython3",
   "version": "3.10.4"
  }
 },
 "nbformat": 4,
 "nbformat_minor": 5
}

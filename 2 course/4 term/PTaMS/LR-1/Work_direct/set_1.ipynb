{
 "cells": [
  {
   "cell_type": "code",
   "execution_count": 1,
   "id": "a6e4cedc-b007-4938-9391-dbb1e668cb92",
   "metadata": {},
   "outputs": [],
   "source": [
    "import pandas as pd"
   ]
  },
  {
   "cell_type": "code",
   "execution_count": 2,
   "id": "4df49981-67b0-424c-9273-e036039bb70d",
   "metadata": {},
   "outputs": [],
   "source": [
    "import matplotlib.pyplot as plt"
   ]
  },
  {
   "cell_type": "code",
   "execution_count": 3,
   "id": "a14065e0-0f7b-48d0-863e-8e7f58a48016",
   "metadata": {},
   "outputs": [],
   "source": [
    "data_set = pd.read_csv('set_1.csv')"
   ]
  },
  {
   "cell_type": "code",
   "execution_count": 4,
   "id": "7e58eddc-b497-4bcf-97a2-e1cbe475622d",
   "metadata": {},
   "outputs": [],
   "source": [
    "num_set = []\n",
    "for value in data_set:\n",
    "    #value_mod = value.replace('.', '', 2) #Для третьего сета\n",
    "    num_set.append(float(value))\n"
   ]
  },
  {
   "cell_type": "code",
   "execution_count": 5,
   "id": "96051be2-e1d3-421f-a814-a1c9404ac8fd",
   "metadata": {},
   "outputs": [
    {
     "name": "stdout",
     "output_type": "stream",
     "text": [
      "Максимальное значение случайной величины: 66.0\n",
      "Минимальное значение случайной величины: 1.0\n"
     ]
    }
   ],
   "source": [
    "max_value = max(num_set)\n",
    "min_value = min(num_set)\n",
    "print(f\"Максимальное значение случайной величины: {max_value}\")\n",
    "print(f\"Минимальное значение случайной величины: {min_value}\")"
   ]
  },
  {
   "cell_type": "code",
   "execution_count": 6,
   "id": "304acbe3-dd41-4be0-be0d-fc40de4d4fff",
   "metadata": {},
   "outputs": [
    {
     "name": "stdout",
     "output_type": "stream",
     "text": [
      "Интервалы, которые выбраны для сглаживания: [[1.0, 4.25], [4.25, 7.5], [7.5, 10.75], [10.75, 14.0], [14.0, 17.25], [17.25, 20.5], [20.5, 23.75], [23.75, 27.0], [27.0, 30.25], [30.25, 33.5], [33.5, 36.75], [36.75, 40.0], [40.0, 43.25], [43.25, 46.5], [46.5, 49.75], [49.75, 53.0], [53.0, 56.25], [56.25, 59.5], [59.5, 62.75], [62.75, 66.0]]\n"
     ]
    }
   ],
   "source": [
    "num_of_intervals = 20\n",
    "\n",
    "intervals = []\n",
    "step = (max_value-min_value)/num_of_intervals\n",
    "interval_start = min_value\n",
    "\n",
    "for i in range(0, num_of_intervals):\n",
    "    interval = [interval_start, interval_start + step]\n",
    "    intervals.append(interval)\n",
    "    interval_start += step \n",
    "    \n",
    "print(f\"Интервалы, которые выбраны для сглаживания: {intervals}\")"
   ]
  },
  {
   "cell_type": "code",
   "execution_count": 7,
   "id": "84b8eccc-ae32-4956-86c8-5f3d69ea7f21",
   "metadata": {},
   "outputs": [
    {
     "name": "stdout",
     "output_type": "stream",
     "text": [
      "Вероятности попадания элементов на интервалы: [0.67207, 0.23454, 0.05776, 0.02273, 0.00692, 0.00232, 0.00052, 0.0002, 0.00169, 0.00087, 0.00026, 7e-05, 1e-05, 2e-05, 1e-05, 0.0, 0.0, 0.0, 0.0, 0.0]\n"
     ]
    }
   ],
   "source": [
    "interval_count = [0 for i in range(0, num_of_intervals)]\n",
    "\n",
    "for i in num_set:\n",
    "    for j in range(0, num_of_intervals):\n",
    "        if i < intervals[j][1] and i >= intervals[j][0]:\n",
    "            interval_count[j] += 1\n",
    "            \n",
    "for i in range(0, num_of_intervals):\n",
    "    interval_count[i] = interval_count[i]/len(num_set)\n",
    "print(f\"Вероятности попадания элементов на интервалы: {interval_count}\")            "
   ]
  },
  {
   "cell_type": "code",
   "execution_count": 8,
   "id": "79e9c415-1d3f-434b-9518-9a94ef82cdd8",
   "metadata": {},
   "outputs": [
    {
     "data": {
      "image/png": "[encoded data removed]",
      "text/plain": [
       "<Figure size 864x432 with 1 Axes>"
      ]
     },
     "metadata": {},
     "output_type": "display_data"
    }
   ],
   "source": [
    "%matplotlib inline\n",
    "import numpy as np\n",
    "import scipy.stats as stats\n",
    "import matplotlib.pyplot as plt\n",
    "\n",
    "x = [i for i in range (1, num_of_intervals + 1)]\n",
    "y = interval_count\n",
    "\n",
    "fig = plt.figure()                      #гистограмма\n",
    "ax_core = fig.add_subplot()\n",
    "ax_core.bar(x, y)\n",
    "ax_core.set_facecolor('seashell')\n",
    "fig.set_facecolor('floralwhite')\n",
    "fig.set_figwidth(12)    \n",
    "fig.set_figheight(6)\n",
    "\n",
    "plt.plot(x, y, color=\"orange\")          #график распределения гистограммы\n",
    "                               \n",
    "plist = stats.geom.cdf(x, y)            #геометрическое распределение\n",
    "plt.plot(plist, color=\"purple\")\n",
    "plt.show()\n"
   ]
  },
  {
   "cell_type": "code",
   "execution_count": 9,
   "id": "b4d478b1-80af-4eec-9664-4b1b1c21c032",
   "metadata": {},
   "outputs": [],
   "source": [
    "#Выдвигаем предположение, что случайная величина имеет геометрическое распределение."
   ]
  },
  {
   "cell_type": "code",
   "execution_count": 10,
   "id": "793fb3f3-a955-4487-9f4a-6ba2d9ece083",
   "metadata": {},
   "outputs": [
    {
     "name": "stdout",
     "output_type": "stream",
     "text": [
      "Хи-квадрат: 25212.754956830264\n"
     ]
    }
   ],
   "source": [
    "#Критерий Пирсона\n",
    "\n",
    "x_empirical = interval_count\n",
    "x_theoretical = stats.geom.cdf(x, y)\n",
    "\n",
    "сhi_squared = 0\n",
    "\n",
    "for i in range(0, 20):\n",
    "    if x_empirical[i] != 0:\n",
    "        сhi_squared += (x_theoretical[i] - x_empirical[i])**2/x_theoretical[i]\n",
    "    \n",
    "сhi_squared *= len(num_set)\n",
    "print(f\"Хи-квадрат: {сhi_squared}\")"
   ]
  },
  {
   "cell_type": "code",
   "execution_count": 11,
   "id": "98adb898-3974-4aed-b5f8-89fda0d613e9",
   "metadata": {},
   "outputs": [],
   "source": [
    "#При данных степенях свободы 19 и альфа 0.01 значение хи-квадрата должно быть менее 37.6\n",
    "\n",
    "#Полученный хи-квадрат несоизмеримо больше, что говорит о том, что различие с теоретическим вызвано неслучайным явлением"
   ]
  },
  {
   "cell_type": "code",
   "execution_count": 12,
   "id": "c9d330c8-5dda-43a5-a7b3-6af4fd329877",
   "metadata": {},
   "outputs": [
    {
     "name": "stdout",
     "output_type": "stream",
     "text": [
      "Несмещенная состоятельная оценка мат ожидания: 3.815513392400001\n"
     ]
    }
   ],
   "source": [
    "#Несмещенную состоятельную оценку мат ожидания\n",
    "\n",
    "gen_avg = 0\n",
    "for i in num_set:\n",
    "    gen_avg += i\n",
    "\n",
    "gen_avg /= len(num_set)\n",
    "print(f\"Несмещенная состоятельная оценка мат ожидания: {gen_avg}\")"
   ]
  },
  {
   "cell_type": "code",
   "execution_count": 13,
   "id": "c9603f26-d59e-4cd0-a0da-bb8639584da5",
   "metadata": {},
   "outputs": [
    {
     "name": "stdout",
     "output_type": "stream",
     "text": [
      "Смещенная состоятельная оценка дисперсии: 3.199184942559052\n"
     ]
    }
   ],
   "source": [
    "#Найдем смещенную состоятельную оценку дисперсии\n",
    "\n",
    "gen_dispersion = 0\n",
    "for i in num_set:\n",
    "    gen_dispersion += (i - gen_avg)**2\n",
    "\n",
    "gen_dispersion /= len(num_set)\n",
    "gen_dispersion = np.sqrt(gen_dispersion) \n",
    "\n",
    "print(f\"Смещенная состоятельная оценка дисперсии: {gen_dispersion}\")"
   ]
  },
  {
   "cell_type": "code",
   "execution_count": 14,
   "id": "bc43c811-2fa4-4632-a1da-a280507764c3",
   "metadata": {},
   "outputs": [
    {
     "name": "stdout",
     "output_type": "stream",
     "text": [
      "Несмещенная состоятельняа оценка дисперсии: 3.199200938603735\n"
     ]
    }
   ],
   "source": [
    "#Найдем несмещенную состоятельную оценку дисперсии\n",
    "\n",
    "point_dispersion = 0\n",
    "for i in num_set:\n",
    "    point_dispersion += (i - gen_avg)**2\n",
    "    \n",
    "point_dispersion /= len(num_set) - 1\n",
    "point_dispersion = np.sqrt(point_dispersion) \n",
    "\n",
    "print(f\"Несмещенная состоятельняа оценка дисперсии: {point_dispersion}\")"
   ]
  },
  {
   "cell_type": "code",
   "execution_count": 15,
   "id": "05b737f8-a134-43a3-bf89-060d9f311a7c",
   "metadata": {},
   "outputs": [
    {
     "name": "stdout",
     "output_type": "stream",
     "text": [
      "Cреднее квадратичное отклонение: 1.7886310236054095\n"
     ]
    }
   ],
   "source": [
    "#Найдем среднее квадратичное отклонение\n",
    "\n",
    "avg_sq = np.sqrt(point_dispersion)\n",
    "print(f\"Cреднее квадратичное отклонение: {avg_sq}\")"
   ]
  },
  {
   "cell_type": "code",
   "execution_count": 16,
   "id": "93d5be58-4088-4def-856d-55a04a511e53",
   "metadata": {},
   "outputs": [
    {
     "name": "stdout",
     "output_type": "stream",
     "text": [
      "Дельта: 0.0198288276375747\n"
     ]
    }
   ],
   "source": [
    "#Имеем n = 100000 и доверительную вероятность 0.95 получаем следующее значение распределения Стьюдента\n",
    "\n",
    "t = 1.9599877077718446\n",
    "\n",
    "delta = point_dispersion*t/np.sqrt(len(num_set) - 1)\n",
    "print(f\"Дельта: {delta}\")"
   ]
  },
  {
   "cell_type": "code",
   "execution_count": 17,
   "id": "cac36b88-0845-492b-b502-546274931a4a",
   "metadata": {},
   "outputs": [
    {
     "name": "stdout",
     "output_type": "stream",
     "text": [
      "3.795684564762426 <= m_x < 3.835342220037576\n"
     ]
    }
   ],
   "source": [
    "#Тогда доверительный интервал для мат ожидания\n",
    "\n",
    "x_1 = gen_avg - delta\n",
    "x_2 = gen_avg + delta\n",
    "\n",
    "print(f\"{x_1} <= m_x < {x_2}\")"
   ]
  },
  {
   "cell_type": "code",
   "execution_count": 18,
   "id": "34d92487-9e06-4190-85a6-46bda11b7680",
   "metadata": {},
   "outputs": [
    {
     "name": "stdout",
     "output_type": "stream",
     "text": [
      "105.25677174262381 <= D_x < 99.57998211828264\n"
     ]
    }
   ],
   "source": [
    "#Найдем доверительный интервал для дисперсии\n",
    "\n",
    "#Хи-квадрат для вероятности (1 - 0.95)/2 и степени свободы 10000 - 1\n",
    "chi_1 = 9723.732237\n",
    "\n",
    "#Хи-квадрат для вероятности (1 + 0.95)/ и степени свободы 10000 - 1\n",
    "chi_2 = 10278.05632\n",
    "\n",
    "print(f\"{len(num_set)*point_dispersion**2/chi_1} <= D_x < {len(num_set)*point_dispersion**2/chi_2}\")"
   ]
  },
  {
   "cell_type": "code",
   "execution_count": null,
   "id": "c5d9a1d1-2540-44c8-b050-fd3c26fe882f",
   "metadata": {},
   "outputs": [],
   "source": []
  }
 ],
 "metadata": {
  "kernelspec": {
   "display_name": "Python 3 (ipykernel)",
   "language": "python",
   "name": "python3"
  },
  "language_info": {
   "codemirror_mode": {
    "name": "ipython",
    "version": 3
   },
   "file_extension": ".py",
   "mimetype": "text/x-python",
   "name": "python",
   "nbconvert_exporter": "python",
   "pygments_lexer": "ipython3",
   "version": "3.10.4"
  }
 },
 "nbformat": 4,
 "nbformat_minor": 5
}

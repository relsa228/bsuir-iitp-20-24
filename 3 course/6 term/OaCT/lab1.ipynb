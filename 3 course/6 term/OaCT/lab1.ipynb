{
 "cells": [
  {
   "attachments": {},
   "cell_type": "markdown",
   "metadata": {},
   "source": [
    "#### Лабораторная работа 1. Обращение матрицы с измененным столбцом\n",
    "Реализовать алгоритм выявления и построения (если возможно) обратной матрицы по заданным данным.\n",
    "\n",
    "$----------------------------------------------$"
   ]
  },
  {
   "cell_type": "code",
   "execution_count": 1,
   "metadata": {},
   "outputs": [],
   "source": [
    "import numpy as np"
   ]
  },
  {
   "attachments": {},
   "cell_type": "markdown",
   "metadata": {},
   "source": [
    "<u>Шаг 0.</u> Ввод входных данных: матрица $A$ (и её размер $ n $), обратная ей матрица $A^{-1}$, вектор $\\vec{x}$ и позиция <i>i</i>."
   ]
  },
  {
   "cell_type": "code",
   "execution_count": 2,
   "metadata": {},
   "outputs": [
    {
     "name": "stdout",
     "output_type": "stream",
     "text": [
      "A = [[ 1 -9 35]\n",
      " [ 9  1  4]\n",
      " [ 6 56  3]] \n",
      "\n",
      "A_invert = [[-0.012822    0.11528197 -0.00411929]\n",
      " [-0.00017405 -0.01200975  0.01804363]\n",
      " [ 0.02889301 -0.00638199  0.00475748]] \n",
      "\n",
      "x_vect = [ 75 664  34] \n",
      "\n",
      "i = 3 \n",
      "\n",
      "n = 3\n"
     ]
    }
   ],
   "source": [
    "a = np.array([[1, -9, 35], [9, 1, 4], [6, 56, 3]]) \n",
    "a_invert = np.linalg.inv(a)\n",
    "x_vect = np.array([75, 664, 34])\n",
    "i = 3\n",
    "n = 3\n",
    "\n",
    "print(\"A =\", a, \"\\n\\nA_invert =\", a_invert, \"\\n\\nx_vect =\", x_vect, \"\\n\\ni =\", i, \"\\n\\nn =\", n)"
   ]
  },
  {
   "attachments": {},
   "cell_type": "markdown",
   "metadata": {},
   "source": [
    "Тогда матрица $\\overline{A}$ будет выглядеть следующим образом:"
   ]
  },
  {
   "cell_type": "code",
   "execution_count": 3,
   "metadata": {},
   "outputs": [
    {
     "name": "stdout",
     "output_type": "stream",
     "text": [
      "[[  1  -9  75]\n",
      " [  9   1 664]\n",
      " [  6  56  34]]\n"
     ]
    }
   ],
   "source": [
    "a_wrk = a\n",
    "\n",
    "for counter in range(0, n):\n",
    "    a_wrk[counter][i - 1] = x_vect[counter]\n",
    "\n",
    "print(a_wrk)"
   ]
  },
  {
   "attachments": {},
   "cell_type": "markdown",
   "metadata": {},
   "source": [
    "<u>Шаг 1.</u> Находим ℓ = $ A^{-1}x $. Если $ ℓ_{i} $ = 0, то матрица $\\overline{A}$ необратима и метод завершает свою работу; в противном случае матрица $\\overline{A}$ обратима и мы переходим на следующий шаг."
   ]
  },
  {
   "cell_type": "code",
   "execution_count": 4,
   "metadata": {},
   "outputs": [
    {
     "name": "stdout",
     "output_type": "stream",
     "text": [
      "l =  [75.445521   -7.3740427  -1.90891158]\n",
      "Матрица A_wrk обратима\n"
     ]
    }
   ],
   "source": [
    "l = np.dot(a_invert, x_vect)\n",
    "print(\"l = \", l)\n",
    "if l[i - 1] == 0:\n",
    "    print(\"Матрица A_wrk необратима\")\n",
    "else:\n",
    "    print(\"Матрица A_wrk обратима\")"
   ]
  },
  {
   "attachments": {},
   "cell_type": "markdown",
   "metadata": {},
   "source": [
    "<u>Шаг 2.</u> Формируем вектор $ \\widetilde{ℓ} $, который получается из вектора ℓ заменой $ i $-го элемента на −1."
   ]
  },
  {
   "cell_type": "code",
   "execution_count": 5,
   "metadata": {},
   "outputs": [
    {
     "name": "stdout",
     "output_type": "stream",
     "text": [
      "l_wave =  [75.445521  -7.3740427 -1.       ]\n"
     ]
    }
   ],
   "source": [
    "l_wave = l.copy()\n",
    "l_wave[i - 1] = -1\n",
    "print(\"l_wave = \", l_wave)\n"
   ]
  },
  {
   "attachments": {},
   "cell_type": "markdown",
   "metadata": {},
   "source": [
    "<u>Шаг 3.</u> Находим $ \\hat{ℓ} = − \\frac{1}{ℓ_{i}} \\widetilde{ℓ} $."
   ]
  },
  {
   "cell_type": "code",
   "execution_count": 6,
   "metadata": {},
   "outputs": [
    {
     "name": "stdout",
     "output_type": "stream",
     "text": [
      "l_hat =  [39.52279497 -3.86295666 -0.52385873]\n"
     ]
    }
   ],
   "source": [
    "l_hat = ((-1)/l[i - 1]) * l_wave\n",
    "print(\"l_hat = \", l_hat)"
   ]
  },
  {
   "attachments": {},
   "cell_type": "markdown",
   "metadata": {},
   "source": [
    "<u>Шаг 4.</u> Формируем матрицу $ Q $, которая получается из единичной матрицы порядка $ n $ заменой $ i $-го столбца на столбец $ \\hat{ℓ} $"
   ]
  },
  {
   "cell_type": "code",
   "execution_count": 7,
   "metadata": {},
   "outputs": [
    {
     "name": "stdout",
     "output_type": "stream",
     "text": [
      "[[ 1.          0.         39.52279497]\n",
      " [ 0.          1.         -3.86295666]\n",
      " [ 0.          0.         -0.52385873]]\n"
     ]
    }
   ],
   "source": [
    "q = np.eye(n)\n",
    "\n",
    "for count in range(0, n):\n",
    "    q[count][n - 1] = l_hat[count]\n",
    "\n",
    "print(q)"
   ]
  },
  {
   "attachments": {},
   "cell_type": "markdown",
   "metadata": {},
   "source": [
    "<u>Шаг 5.</u> Находим $ (\\hat{A})^{-1} = QA^{-1} $."
   ]
  },
  {
   "cell_type": "code",
   "execution_count": 8,
   "metadata": {},
   "outputs": [],
   "source": [
    "a_result = np.zeros((n, n))\n",
    "\n",
    "for j in range(0, n):\n",
    "    for k in range(0, n):\n",
    "        if i - 1 != j:\n",
    "            a_result[j][k] = q[j][j] * a_invert[j][k] + q[j][i - 1] * a_invert[i - 1][k]\n",
    "        else: \n",
    "            a_result[j][k] = q[j][i - 1] * a_invert[i - 1][k]"
   ]
  },
  {
   "attachments": {},
   "cell_type": "markdown",
   "metadata": {},
   "source": [
    "Ответ:"
   ]
  },
  {
   "cell_type": "code",
   "execution_count": 9,
   "metadata": {},
   "outputs": [
    {
     "name": "stdout",
     "output_type": "stream",
     "text": [
      "[[ 1.12911069e+00 -1.36952161e-01  1.83909793e-01]\n",
      " [-1.11786518e-01  1.26436083e-02 -3.34326181e-04]\n",
      " [-1.51358580e-02  3.34326181e-03 -2.49224971e-03]]\n"
     ]
    }
   ],
   "source": [
    "print(a_result)"
   ]
  }
 ],
 "metadata": {
  "kernelspec": {
   "display_name": "Python 3",
   "language": "python",
   "name": "python3"
  },
  "language_info": {
   "codemirror_mode": {
    "name": "ipython",
    "version": 3
   },
   "file_extension": ".py",
   "mimetype": "text/x-python",
   "name": "python",
   "nbconvert_exporter": "python",
   "pygments_lexer": "ipython3",
   "version": "3.11.2"
  },
  "orig_nbformat": 4,
  "vscode": {
   "interpreter": {
    "hash": "dafa009b109f4839edf66eaa716f3b5183c8b1d26d0f08759c4466a2c793f599"
   }
  }
 },
 "nbformat": 4,
 "nbformat_minor": 2
}

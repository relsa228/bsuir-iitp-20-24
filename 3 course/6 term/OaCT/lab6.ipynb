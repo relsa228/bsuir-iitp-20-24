{
 "cells": [
  {
   "attachments": {},
   "cell_type": "markdown",
   "metadata": {},
   "source": [
    "#### Лабораторная работа 6. Задачи квадратичного программирования\n",
    "Реализовать решение задачи квадратичного программирования.\n",
    "\n",
    "$----------------------------------------------$"
   ]
  },
  {
   "cell_type": "code",
   "execution_count": 256,
   "metadata": {},
   "outputs": [],
   "source": [
    "import numpy as np"
   ]
  },
  {
   "attachments": {},
   "cell_type": "markdown",
   "metadata": {},
   "source": [
    "<u>Шаг 0.</u> Определение исходных данных задачи"
   ]
  },
  {
   "cell_type": "code",
   "execution_count": 257,
   "metadata": {},
   "outputs": [],
   "source": [
    "D = np.array([[2, 1, 1, 0], [1, 1, 0, 0], [1, 0, 1, 0], [0, 0, 0, 0]])\n",
    "A = np.array([[1, 0, 2, 1], [0, 1, -1, 2]])\n",
    "c = np.array([[-8], [-6], [-4], [-6]])\n",
    "x_t = np.array([[2], [3], [0], [0]])\n",
    "j_b = [0, 1]\n",
    "j_b_extd = [0, 1]"
   ]
  },
  {
   "attachments": {},
   "cell_type": "markdown",
   "metadata": {},
   "source": [
    "<u>Шаг 1.</u> Находим векторы $c(x)$, $u(x)$ и $\\Delta(x)$ по формулам:\n",
    "\n",
    "\n",
    "$c'(x) = c' + x' \\cdot D$\n",
    "\n",
    "\n",
    "$u'(x) = -c_{b}'(x) \\cdot A_{b}^{-1}$\n",
    "\n",
    "\n",
    "$\\Delta'(x) = u'(x) \\cdot A + c'(x)$\n"
   ]
  },
  {
   "cell_type": "code",
   "execution_count": 258,
   "metadata": {},
   "outputs": [
    {
     "name": "stdout",
     "output_type": "stream",
     "text": [
      "c_x =  [[-1]\n",
      " [-1]\n",
      " [-2]\n",
      " [-6]] \n",
      "u_x =  [[1.]\n",
      " [1.]] \n",
      "delta_x =  [ 0.  0. -1. -3.]\n"
     ]
    }
   ],
   "source": [
    "c_x = np.add(c, D.dot(x_t))\n",
    "\n",
    "idx = np.array(j_b)\n",
    "c_b = c_x[idx]\n",
    "A_b = A[:, idx]\n",
    "A_b_inv = np.linalg.inv(A_b)\n",
    "u_x = A_b_inv.dot(-1*c_b)\n",
    "\n",
    "delta_x = np.add(np.transpose(u_x)[0].dot(A), np.transpose(c_x)[0])\n",
    "\n",
    "print(\"c_x = \", c_x, \"\\nu_x = \", u_x,\"\\ndelta_x = \", delta_x)"
   ]
  },
  {
   "attachments": {},
   "cell_type": "markdown",
   "metadata": {},
   "source": [
    "<u>Шаг 2.</u> Проверяем условие оптимальности текущего правильного опорного плана. Если все компоненты вектора $\\Delta(x)$ неотрицательные, то метод завершает свою работу и текущий правильный опорный план является оптимальным. В противном случае переходим на следующий шаг."
   ]
  },
  {
   "cell_type": "code",
   "execution_count": 259,
   "metadata": {},
   "outputs": [
    {
     "name": "stdout",
     "output_type": "stream",
     "text": [
      "План неоптимальный\n"
     ]
    }
   ],
   "source": [
    "if np.all(delta_x >= 0):\n",
    "    j_b = [i + 1 for i in j_b]\n",
    "    j_b_extd = [i + 1 for i in j_b_extd]\n",
    "    print(\"ОТВЕТ:\")\n",
    "    print(\"x =\", np.transpose(x_t))\n",
    "    print(\"j_b =\", j_b)\n",
    "    print(\"j_b_extd =\", j_b_extd)\n",
    "    break\n",
    "else:\n",
    "    print(\"План неоптимальный\")\n"
   ]
  },
  {
   "attachments": {},
   "cell_type": "markdown",
   "metadata": {},
   "source": [
    "<u>Шаг 3.</u> Выбираем отрицательную компоненту плана $\\Delta(x)$ и индекс выбранной компоненты запоминаем в переменной $j_{0}$"
   ]
  },
  {
   "cell_type": "code",
   "execution_count": 260,
   "metadata": {},
   "outputs": [
    {
     "data": {
      "text/plain": [
       "2"
      ]
     },
     "execution_count": 260,
     "metadata": {},
     "output_type": "execute_result"
    }
   ],
   "source": [
    "j_0 = np.where(delta_x < 0)[0][0]\n",
    "j_0"
   ]
  },
  {
   "attachments": {},
   "cell_type": "markdown",
   "metadata": {},
   "source": [
    "<u>Шаг 4.</u> По множеству $J_{b_{*}}$ и $j_{0}$ найдём вектор $l' = (l_{1}, l_{2}, l_{3}, l_{4})$"
   ]
  },
  {
   "attachments": {},
   "cell_type": "markdown",
   "metadata": {},
   "source": [
    "Компоненты этого вектора делятся на два класса:\n",
    "\n",
    "$l_{b_{*}} = \\begin{pmatrix}\n",
    "l_1 \\\\\n",
    "l_2 \\\\\n",
    "\\end{pmatrix}$\n",
    "\n",
    "$\\bar{l_{b_{*}}} = \\begin{pmatrix}\n",
    "l_3 \\\\\n",
    "l_4 \\\\\n",
    "\\end{pmatrix}$\n",
    "\n",
    "(1) Сперва находим вектор $\\bar{l_{b_{*}}}$ по следующему правилу: $j_{0}$ = 1, значения всех остальных компонент $\\bar{l_{b_{*}}}$ полагаем равными 0.\n"
   ]
  },
  {
   "cell_type": "code",
   "execution_count": 261,
   "metadata": {},
   "outputs": [],
   "source": [
    "l = np.zeros(delta_x.size)\n",
    "l[j_0] = -next(\n",
    "    (item for item in delta_x if item < 0),\n",
    "    None)"
   ]
  },
  {
   "attachments": {},
   "cell_type": "markdown",
   "metadata": {},
   "source": [
    "(2) Для того, чтобы найти компоненты вектора $l_{b_{*}}$ мы составляем матрицу H \n",
    "\n",
    "$H = \\begin{pmatrix}\n",
    "D^{*} & A_{b^{*}}'\\\\\n",
    "A_{b^{*}} & 0\\\\\n",
    "\\end{pmatrix}$\n",
    "\n",
    "\n",
    "и обращаем её"
   ]
  },
  {
   "cell_type": "code",
   "execution_count": 262,
   "metadata": {},
   "outputs": [
    {
     "data": {
      "text/plain": [
       "array([[2., 1., 1., 0.],\n",
       "       [1., 1., 0., 1.],\n",
       "       [1., 0., 0., 0.],\n",
       "       [0., 1., 0., 0.]])"
      ]
     },
     "execution_count": 262,
     "metadata": {},
     "output_type": "execute_result"
    }
   ],
   "source": [
    "D_sub = D[np.ix_(j_b, j_b)]\n",
    "H_1 = np.concatenate((D_sub, np.transpose(A_b)), axis=1)\n",
    "H_2 = np.concatenate((A_b, np.zeros(A_b.shape)), axis=1)\n",
    "H = np.concatenate((H_1, H_2), axis=0)\n",
    "H_inv = np.linalg.inv(H)\n",
    "H"
   ]
  },
  {
   "attachments": {},
   "cell_type": "markdown",
   "metadata": {},
   "source": [
    "(3) Далее строим вектор $b^{*}$ Он состоит из двух частей. Сперва идут элементы столбца матрицы D с индексом $j_0$, стоящие в строках с индексами из множества $J_{b^{*}}$. Далее идут элементы $j_0$-го столбца матрицы A."
   ]
  },
  {
   "cell_type": "code",
   "execution_count": 263,
   "metadata": {},
   "outputs": [
    {
     "data": {
      "text/plain": [
       "[0, 1, 2, -1]"
      ]
     },
     "execution_count": 263,
     "metadata": {},
     "output_type": "execute_result"
    }
   ],
   "source": [
    "d_j0 = D[:, j_0]\n",
    "b = []\n",
    "for item in j_b_extd:\n",
    "    b.append(d_j0[item - 1])\n",
    "a_j0 = A[:, j_0]\n",
    "for item in a_j0:\n",
    "    b.append(item)\n",
    "b"
   ]
  },
  {
   "attachments": {},
   "cell_type": "markdown",
   "metadata": {},
   "source": [
    "(4) Находим вектор x по следующей формуле\n",
    "\n",
    "$\\hat x = −H^{−1} \\cdot b^{∗}$"
   ]
  },
  {
   "cell_type": "code",
   "execution_count": 264,
   "metadata": {},
   "outputs": [
    {
     "data": {
      "text/plain": [
       "array([-2.,  1.,  3.,  0.])"
      ]
     },
     "execution_count": 264,
     "metadata": {},
     "output_type": "execute_result"
    }
   ],
   "source": [
    "tmp = np.dot(-1, H_inv)\n",
    "x_hat = np.dot(tmp, b)\n",
    "\n",
    "x_hat"
   ]
  },
  {
   "attachments": {},
   "cell_type": "markdown",
   "metadata": {},
   "source": [
    "(5) Возьмем недостающее число компанент для $l_{b_{*}}$ из $\\hat x$ (берем цельным блоком из начала вектора)"
   ]
  },
  {
   "cell_type": "code",
   "execution_count": 265,
   "metadata": {},
   "outputs": [
    {
     "data": {
      "text/plain": [
       "array([-2.,  1.,  1.,  0.])"
      ]
     },
     "execution_count": 265,
     "metadata": {},
     "output_type": "execute_result"
    }
   ],
   "source": [
    "for i in range(len(j_b_extd)):\n",
    "    l[j_b_extd[i]] = x_hat[i]\n",
    "    \n",
    "l"
   ]
  },
  {
   "attachments": {},
   "cell_type": "markdown",
   "metadata": {},
   "source": [
    "<u>Шаг 5.</u> Для каждого индекса $j \\in J_{b^{*}}$ найдём величину $\\theta_{j}$, а также вычислим величину $\\theta_{j_{0}}$.\n",
    "\n",
    "(1) Сперва вычислим $\\delta$\n",
    "\n",
    "$\\delta = l' \\cdot D \\cdot l$"
   ]
  },
  {
   "cell_type": "code",
   "execution_count": 266,
   "metadata": {},
   "outputs": [
    {
     "data": {
      "text/plain": [
       "2"
      ]
     },
     "execution_count": 266,
     "metadata": {},
     "output_type": "execute_result"
    }
   ],
   "source": [
    "lil_delta = np.transpose(l) * D * l\n",
    "lil_delta = np.linalg.matrix_rank(lil_delta)\n",
    "lil_delta"
   ]
  },
  {
   "attachments": {},
   "cell_type": "markdown",
   "metadata": {},
   "source": [
    "(2) Теперь найдем $\\theta_{j_{0}}$ по следующему правилу:\n",
    "\n",
    "$\\theta_{j_{0}} = \\begin{cases}\n",
    "\\infty, \\space если \\space \\delta=0\\\\\n",
    "\\frac{|{\\Delta_{j_{0}}(x)}|}{\\delta}, \\space если \\space \\delta>0\n",
    "\\end{cases}$"
   ]
  },
  {
   "cell_type": "code",
   "execution_count": 267,
   "metadata": {},
   "outputs": [
    {
     "data": {
      "text/plain": [
       "0.5"
      ]
     },
     "execution_count": 267,
     "metadata": {},
     "output_type": "execute_result"
    }
   ],
   "source": [
    "theta_j_0 = 0\n",
    "if lil_delta > 0:\n",
    "    theta_j_0 = abs(delta_x[j_0]) / lil_delta\n",
    "elif lil_delta == 0:\n",
    "    theta_j_0 = np.inf\n",
    "\n",
    "theta_j_0"
   ]
  },
  {
   "attachments": {},
   "cell_type": "markdown",
   "metadata": {},
   "source": [
    "(3) Далее найдем $\\theta_{j}$ для каждого $j \\in J_{b^{*}}$\n",
    "\n",
    "$\\theta_{j} = \\begin{cases}\n",
    "-\\frac{x_{j}}{l_{j}}, \\space если \\space l_{j}<0\\\\\n",
    "\\infty, \\space если \\space l_{j}\\geq 0\n",
    "\\end{cases}$"
   ]
  },
  {
   "cell_type": "code",
   "execution_count": 268,
   "metadata": {},
   "outputs": [
    {
     "name": "stdout",
     "output_type": "stream",
     "text": [
      "[0.5, 1.0, inf]\n",
      "[2, 0, 1]\n"
     ]
    }
   ],
   "source": [
    "\n",
    "theta_li = [theta_j_0]\n",
    "index_li = [j_0]\n",
    "for j in j_b_extd:\n",
    "    if l[j] < 0:\n",
    "        theta_li.append((-1)*(float(x_t[j])/float(l[j])))\n",
    "    elif l[j] >= 0:\n",
    "        theta_li.append(np.inf)\n",
    "    index_li.append(j)\n",
    "    \n",
    "print(theta_li)\n",
    "print(index_li)"
   ]
  },
  {
   "attachments": {},
   "cell_type": "markdown",
   "metadata": {},
   "source": [
    "(4) Теперь найдем минимум $\\theta_{0}$"
   ]
  },
  {
   "cell_type": "code",
   "execution_count": 269,
   "metadata": {},
   "outputs": [
    {
     "data": {
      "text/plain": [
       "2"
      ]
     },
     "execution_count": 269,
     "metadata": {},
     "output_type": "execute_result"
    }
   ],
   "source": [
    "theta_0_index = 0\n",
    "theta_0 = theta_li[0]\n",
    "for i in range(len(theta_li)):\n",
    "    if theta_0 > theta_li[i]:\n",
    "        theta_0 = theta_li[i]\n",
    "        theta_0_index = i\n",
    "\n",
    "if (theta_0 == np.inf):\n",
    "    print(\"Целевая функция задачи не ограничена снизу на множестве допустимых планом\")\n",
    "else:\n",
    "    j_str = index_li[theta_0_index]\n",
    "j_str"
   ]
  },
  {
   "attachments": {},
   "cell_type": "markdown",
   "metadata": {},
   "source": [
    "<u>Шаг 6.</u> Обновим допустимый план \n",
    "\n",
    "(1) $x = x + \\theta_0 \\cdot l$"
   ]
  },
  {
   "cell_type": "code",
   "execution_count": 270,
   "metadata": {},
   "outputs": [
    {
     "data": {
      "text/plain": [
       "array([[1. ],\n",
       "       [3.5],\n",
       "       [0.5],\n",
       "       [0. ]])"
      ]
     },
     "execution_count": 270,
     "metadata": {},
     "output_type": "execute_result"
    }
   ],
   "source": [
    "x_t = np.transpose(np.add(np.transpose(x_t), l.dot(theta_0)))\n",
    "x_t"
   ]
  },
  {
   "attachments": {},
   "cell_type": "markdown",
   "metadata": {},
   "source": [
    "(2) Обновим теперь опору ограничений $J_b$ и расширенную опору ограничений $J_{b_*}$ по следующему правилу:\n",
    "\n",
    "1. Если $j_* = j_0$, то $J_b$ не меняем, а в $J_{b^*}$ добавляем $j_*$\n",
    "2. Если $j_* \\in J_b$, то $J_b$ не меняем, а из $J_{b^*}$ удаляем $j_*$\n",
    "3. Если $j_* \\in J_b$ (индекс $j_*$ идёт $s$-м по счёту в $J_b$) и существует индекс $j_+ \\in J_{b^*} \\backslash J_b$ такой, что $s$-я компонента вектора $(A^{−1}_{b} · A_{j_+} )$ не равна 0, то в $J_b$ заменяем индекс $j_*$ на индекс $j_+$, а из $J_{b_*}$ удаляем индекс $j_*$.\n",
    "4. Если $j_* \\in J_b$ (индекс $j_*$ идёт $s$-м по счёту в $J_b$) и ($J_b = J_{b_*}$ или для любого индекса $j_+ \\in J_{b_*} \\backslash J_b$ выполняется условие: $s$-ая компонента вектора $(A^{−1}_{b} · A_{j_+} )$ равна 0), то и в $J_b$, и в $J_{b_*}$ заменяем индекс $j_*$ на индекс $j_0$.\n"
   ]
  },
  {
   "cell_type": "code",
   "execution_count": 271,
   "metadata": {},
   "outputs": [
    {
     "name": "stdout",
     "output_type": "stream",
     "text": [
      "[0, 1]\n",
      "[0, 1, 2]\n",
      "[[1. ]\n",
      " [3.5]\n",
      " [0.5]\n",
      " [0. ]]\n"
     ]
    }
   ],
   "source": [
    "if j_str == j_0:\n",
    "    j_b_extd.append(j_str)\n",
    "elif (j_str in j_b_extd) and (j_str not in j_b):\n",
    "    j_b_extd.delete(j_str)\n",
    "elif j_str in j_b:\n",
    "    s_list = np.where(j_b == j_str)\n",
    "    j_plus_list = np.where(j_b_extd != j_b)\n",
    "    break_flag = False\n",
    "    for s in s_list:\n",
    "        for j_plus in j_plus_list:\n",
    "            if np.linalg.inv(A_b).dot(A[:j_plus])[s] != 0:\n",
    "                break_flag = True\n",
    "                j_b[j_b == j_str] = j_plus\n",
    "                j_b_extd = j_b_extd[j_b_extd != j_str]\n",
    "        if break_flag:\n",
    "            break\n",
    "    if not break_flag:\n",
    "        j_b[j_b == j_str] = j_0\n",
    "        j_b_extd[j_b_extd == j_str] = j_0\n",
    "        \n",
    "print(j_b)\n",
    "print(j_b_extd)\n",
    "print(x_t)"
   ]
  },
  {
   "cell_type": "code",
   "execution_count": 272,
   "metadata": {},
   "outputs": [
    {
     "name": "stdout",
     "output_type": "stream",
     "text": [
      "ОТВЕТ:\n",
      "x = [[1.5   2.    0.    0.375]]\n",
      "j_b = [1, 2]\n",
      "j_b_extd = [1, 2, 4]\n"
     ]
    }
   ],
   "source": [
    "while(True):\n",
    "    #Шаг 1 =========================================\n",
    "    c_x = np.add(c, D.dot(x_t))\n",
    "\n",
    "    idx = np.array(j_b)\n",
    "    idx_extd = np.array(j_b_extd)\n",
    "    c_b = c_x[idx]\n",
    "    A_b = A[:, idx]\n",
    "    A_b_extd = A[:, idx_extd]\n",
    "    A_b_inv = np.linalg.inv(A_b)\n",
    "    u_x = A_b_inv.dot(-1*c_b)\n",
    "\n",
    "    delta_x = np.add(np.transpose(u_x)[0].dot(A), np.transpose(c_x)[0])\n",
    "    \n",
    "    #Шаг 2 =========================================\n",
    "    if np.all(delta_x >= 0):\n",
    "        j_b = [i + 1 for i in j_b]\n",
    "        j_b_extd = [i + 1 for i in j_b_extd]\n",
    "        print(\"ОТВЕТ:\")\n",
    "        print(\"x =\", np.transpose(x_t))\n",
    "        print(\"j_b =\", j_b)\n",
    "        print(\"j_b_extd =\", j_b_extd)\n",
    "        break\n",
    "        \n",
    "    #Шаг 3 =========================================\n",
    "    j_0 = np.where(delta_x < 0)[0][0]\n",
    "    \n",
    "    #Шаг 4 (1) =========================================\n",
    "    l = np.zeros(delta_x.size)\n",
    "    l[j_0] = -next(\n",
    "        (item for item in delta_x if item < 0),\n",
    "        None)\n",
    "    \n",
    "    #Шаг 4 (2) =========================================\n",
    "    D_sub = D[np.ix_(j_b_extd, j_b_extd)]\n",
    "    H_1 = np.concatenate((D_sub, np.transpose(A_b_extd)), axis=1)\n",
    "    H_2 = np.concatenate((A_b_extd, np.zeros((A_b_extd.shape[0], H_1.shape[1] - A_b_extd.shape[1]))), axis=1)\n",
    "    H = np.concatenate((H_1, H_2), axis=0)\n",
    "    H_inv = np.linalg.inv(H)\n",
    " \n",
    "    #Шаг 4 (3) =========================================\n",
    "    d_j0 = D[:, j_0]\n",
    "    b = []\n",
    "    for item in j_b_extd:\n",
    "        b.append(d_j0[item - 1])\n",
    "    a_j0 = A[:, j_0]\n",
    "    for item in a_j0:\n",
    "        b.append(item)\n",
    "        \n",
    "    #Шаг 4 (4) =========================================        \n",
    "    tmp = np.dot(-1, H_inv)\n",
    "    x_hat = np.dot(tmp, b)\n",
    "    \n",
    "    #Шаг 4 (5) =========================================\n",
    "    for i in range(len(j_b_extd)):\n",
    "        l[j_b_extd[i]] = x_hat[i]\n",
    "        \n",
    "    #Шаг 5 (1) =========================================\n",
    "    lil_delta = np.transpose(l) * D * l\n",
    "    lil_delta = np.linalg.matrix_rank(lil_delta)\n",
    "    \n",
    "    #Шаг 5 (2) =========================================\n",
    "    theta_j_0 = 0\n",
    "    if lil_delta > 0:\n",
    "        theta_j_0 = abs(delta_x[j_0]) / lil_delta\n",
    "    elif lil_delta == 0:\n",
    "        theta_j_0 = np.inf\n",
    "        \n",
    "    #Шаг 5 (3) =========================================\n",
    "    theta_li = [theta_j_0]\n",
    "    index_li = [j_0]\n",
    "    for j in j_b_extd:\n",
    "        if l[j] < 0:\n",
    "            theta_li.append(- x_t[j] / l[j])\n",
    "        elif l[j] >= 0:\n",
    "            theta_li.append(np.inf)\n",
    "        index_li.append(j)\n",
    "        \n",
    "    #Шаг 5 (4) =========================================\n",
    "    theta_0_index = 0\n",
    "    theta_0 = float(theta_li[0])\n",
    "    for i in range(len(theta_li)):\n",
    "        if theta_0 > theta_li[i]:\n",
    "            theta_0 = float(theta_li[i])\n",
    "            theta_0_index = i\n",
    "\n",
    "    if (theta_0 == np.inf):\n",
    "        print(\"Целевая функция задачи не ограничена снизу на множестве допустимых планом\")\n",
    "        break\n",
    "    else:\n",
    "        j_str = index_li[theta_0_index]\n",
    "      \n",
    "    #Шаг 6 (1) =========================================  \n",
    "    x_t = np.transpose(np.add(np.transpose(x_t), l.dot(theta_0)))\n",
    "    #Шаг 6 (2) ========================================= \n",
    "    if j_str == j_0:\n",
    "        j_b_extd = np.append(j_b_extd, (j_str))\n",
    "    elif (j_str in j_b_extd) and (j_str not in j_b):\n",
    "        j_b_extd = np.delete(j_b_extd, j_str)\n",
    "    elif j_str in j_b:\n",
    "        s_list = np.where(j_b == j_str)\n",
    "        j_plus_list = np.where(j_b_extd != j_b)\n",
    "        break_flag = False\n",
    "        for s in s_list:\n",
    "            for j_plus in j_plus_list:\n",
    "                if np.linalg.inv(A_b).dot(A[:j_plus])[s] != 0:\n",
    "                    break_flag = True\n",
    "                    j_b[j_b == j_str] = j_plus\n",
    "                    j_b_extd = j_b_extd[j_b_extd != j_str]\n",
    "            if break_flag:\n",
    "                break\n",
    "        if not break_flag:\n",
    "            j_b[j_b == j_str] = j_0\n",
    "            j_b_extd[j_b_extd == j_str] = j_0 "
   ]
  }
 ],
 "metadata": {
  "kernelspec": {
   "display_name": "Python 3",
   "language": "python",
   "name": "python3"
  },
  "language_info": {
   "codemirror_mode": {
    "name": "ipython",
    "version": 3
   },
   "file_extension": ".py",
   "mimetype": "text/x-python",
   "name": "python",
   "nbconvert_exporter": "python",
   "pygments_lexer": "ipython3",
   "version": "3.11.2"
  },
  "orig_nbformat": 4
 },
 "nbformat": 4,
 "nbformat_minor": 2
}

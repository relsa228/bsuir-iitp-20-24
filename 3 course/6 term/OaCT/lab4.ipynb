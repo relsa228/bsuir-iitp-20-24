{
 "cells": [
  {
   "attachments": {},
   "cell_type": "markdown",
   "metadata": {},
   "source": [
    "#### Лабораторная работа 4. Двойственный симплекс-метод\n",
    "Реализовать двойственный симплекс-метод.\n",
    "\n",
    "$----------------------------------------------$"
   ]
  },
  {
   "cell_type": "code",
   "execution_count": 1,
   "metadata": {},
   "outputs": [],
   "source": [
    "import numpy as np"
   ]
  },
  {
   "attachments": {},
   "cell_type": "markdown",
   "metadata": {},
   "source": [
    "<u>Шаг 1.</u> Составим базисную матрицу $A_{B}$ и найдем для нее обратную матрицу $A_{B}^{-1}$."
   ]
  },
  {
   "attachments": {},
   "cell_type": "markdown",
   "metadata": {},
   "source": [
    "<u>Шаг 2.</u> Сформируем вектор $c_{B}$ , состоящий из компонент вектора $c$ с базисными индексами."
   ]
  },
  {
   "attachments": {},
   "cell_type": "markdown",
   "metadata": {},
   "source": [
    "<u>Шаг 3.</u> Находим базисный допустимый план двойственной задачи $y_{T} = c^{T}_{B}A^{-1}_{B}$."
   ]
  },
  {
   "attachments": {},
   "cell_type": "markdown",
   "metadata": {},
   "source": [
    "<u>Шаг 4.</u> Находим псевдоплан $κ^{⊺} = (κ_{B} , κ_{N})$, соответствующий текущему базисному допустимому плану $y$, \n",
    "\n",
    "$κ_{B} = A^{-1}_{B}b, κ_{N} = 0$"
   ]
  },
  {
   "attachments": {},
   "cell_type": "markdown",
   "metadata": {},
   "source": [
    "<u>Шаг 5.</u> Если $κ \\geq 0$, то $κ$ — оптимальный план прямой задачи (1) и метод завершает свою работу."
   ]
  },
  {
   "attachments": {},
   "cell_type": "markdown",
   "metadata": {},
   "source": [
    "Шаг 6. Выделим отрицательную компоненту псевдоплана $κ$ и сохраним ее индекс. Этот индекс базисный $j_{k} \\in B$."
   ]
  },
  {
   "attachments": {},
   "cell_type": "markdown",
   "metadata": {},
   "source": [
    "<u>Шаг 7.</u> Пусть $\\delta y$ — это $k$-я строка матрицы $A^{−1}_{B}$. Для каждого индекса $j \\in \\{1, 2, . . . , n\\} \\backslash B$ вычислим\n",
    "\n",
    "\n",
    "$μ_{j} = \\delta y^{⊺} A_{j}$ ,\n",
    "\n",
    "\n",
    "где $A_{j}$ — это $j$-ый столбец матрицы $A$"
   ]
  },
  {
   "attachments": {},
   "cell_type": "markdown",
   "metadata": {},
   "source": [
    "<u>Шаг 8.</u> Если для каждого индекса $j \\in \\{1, 2, . . . , n\\} \\backslash B$ выполняется $μ_{j} \\geq 0$, то прямая задача (1) не совместна и метод завершает свою работу."
   ]
  },
  {
   "attachments": {},
   "cell_type": "markdown",
   "metadata": {},
   "source": [
    "<u>Шаг 9.</u> Для каждого индекса $j \\in \\{1, 2, . . . , n\\} \\backslash B$ такого, что $μ_{j} < 0$ вычислим\n",
    "\n",
    "\n",
    "$σ_{j} = \\frac{c_{j} − A^{⊺}_{j}y}{μ_{j}}$"
   ]
  },
  {
   "attachments": {},
   "cell_type": "markdown",
   "metadata": {},
   "source": [
    "<u>Шаг 10.</u> Найдем\n",
    "\n",
    "$σ_{0} = min\\{σ_{j} : j \\in \\{1, 2, . . . , n\\} \\backslash B ∧ μj < 0\\}$.\n",
    "\n",
    "и сохраним индекс, на котором достигается минимум, в переменной $j_{0}$."
   ]
  },
  {
   "attachments": {},
   "cell_type": "markdown",
   "metadata": {},
   "source": [
    "<u>Шаг 11.</u> В множестве B заменим $k$-ый базисный индекс на индекс $j_{0}$. Переходим на Шаг 1."
   ]
  },
  {
   "cell_type": "code",
   "execution_count": 2,
   "metadata": {},
   "outputs": [],
   "source": [
    "def dual_simplex_method(c, b, A, B, n, m):\n",
    "    while(True):\n",
    "        #Шаг 1 ============================================\n",
    "        a_B = np.zeros((b.size, c.size))\n",
    "\n",
    "        row_index = 0\n",
    "        for i in B:\n",
    "            a_B[:, row_index] = [x[i - 1] for x in A]\n",
    "            row_index += 1\n",
    "            \n",
    "        a_B_invert = np.linalg.inv(a_B[:b.size, :B.size])\n",
    "        \n",
    "        #Шаг 2 ============================================\n",
    "        c_B = []\n",
    "\n",
    "        for i in B:\n",
    "            c_B.append(c[i - 1])\n",
    "          \n",
    "        #Шаг 3 ============================================  \n",
    "        y_t = np.dot(c_B, a_B_invert)\n",
    "        \n",
    "        #Шаг 4 ============================================ \n",
    "        k_B = np.dot(a_B_invert, b)\n",
    "        k_T = np.zeros(n)\n",
    "\n",
    "        index = 0\n",
    "        for i in B:\n",
    "            k_T[i - 1] = k_B[index]\n",
    "            index += 1\n",
    "            \n",
    "        #Шаг 5 ============================================ \n",
    "        end = True\n",
    "\n",
    "        for i in k_T:\n",
    "            if i < 0:\n",
    "                end = False\n",
    "                \n",
    "        if end:\n",
    "            print(\"Optimal plan: \")\n",
    "            print(k_T)\n",
    "            break\n",
    "        \n",
    "        #Шаг 6 ============================================   \n",
    "        index = 1\n",
    "        neg_index = 0\n",
    "        for i in k_T:\n",
    "            if i < 0:\n",
    "                neg_index = index\n",
    "            index += 1\n",
    "            \n",
    "        j_index = 0\n",
    "        for i in B:\n",
    "            if i == neg_index:\n",
    "                break\n",
    "            j_index += 1     \n",
    "            \n",
    "        #Шаг 7 ============================================ \n",
    "        j_list = []\n",
    "\n",
    "        for i in range(0, n):\n",
    "            if i + 1 not in B:\n",
    "                j_list.append(i)\n",
    "\n",
    "        j_nu_list = []\n",
    "        for i in j_list:\n",
    "            j_nu_list.append(np.dot(a_B_invert[j_index], A[:, i]))\n",
    "            \n",
    "        #Шаг 8 ============================================\n",
    "        end = True\n",
    "\n",
    "        for i in j_nu_list:\n",
    "            if i < 0:\n",
    "                end = False\n",
    "            \n",
    "        if end:\n",
    "            print(\"the problem is incompatible\")\n",
    "            break\n",
    "\n",
    "        #Шаг 9 ============================================\n",
    "        sigma_list = []\n",
    "        index = 0\n",
    "\n",
    "        for i in j_list:\n",
    "            sigma_list.append(np.divide(c[i] - np.dot(np.transpose(A[:, i]), np.transpose(y_t)), j_nu_list[index]))\n",
    "            index += 1\n",
    "            \n",
    "        #Шаг 10 ============================================\n",
    "        j_0 = 1\n",
    "        index = 1\n",
    "        minm = sigma_list[0]\n",
    "\n",
    "        for i in sigma_list:\n",
    "            if i < minm:\n",
    "                minm = i\n",
    "                j_0 = index\n",
    "            index += 1\n",
    "            \n",
    "        #Шаг 11 ============================================\n",
    "        B[j_index] = j_0"
   ]
  },
  {
   "attachments": {},
   "cell_type": "markdown",
   "metadata": {},
   "source": [
    "<u>Шаг 0.</u> Определение исходных данных задачи"
   ]
  },
  {
   "cell_type": "code",
   "execution_count": 3,
   "metadata": {},
   "outputs": [
    {
     "name": "stdout",
     "output_type": "stream",
     "text": [
      "Optimal plan: \n",
      "[0.25 0.5  0.   0.   0.  ]\n"
     ]
    }
   ],
   "source": [
    "c = np.array([-4, -3, -7, 0, 0])\n",
    "b = np.array([-1, -1.5])\n",
    "A = np.array([[-2, -1, -4, 1, 0], [-2, -2, -2, 0, 1]])\n",
    "B = np.array([4, 5])\n",
    "\n",
    "n = c.size\n",
    "m = b.size\n",
    "\n",
    "dual_simplex_method(c, b, A, B, n, m)"
   ]
  }
 ],
 "metadata": {
  "kernelspec": {
   "display_name": "Python 3",
   "language": "python",
   "name": "python3"
  },
  "language_info": {
   "codemirror_mode": {
    "name": "ipython",
    "version": 3
   },
   "file_extension": ".py",
   "mimetype": "text/x-python",
   "name": "python",
   "nbconvert_exporter": "python",
   "pygments_lexer": "ipython3",
   "version": "3.11.2"
  },
  "orig_nbformat": 4
 },
 "nbformat": 4,
 "nbformat_minor": 2
}

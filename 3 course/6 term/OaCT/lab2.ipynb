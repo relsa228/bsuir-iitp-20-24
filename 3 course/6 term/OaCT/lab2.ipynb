{
 "cells": [
  {
   "attachments": {},
   "cell_type": "markdown",
   "metadata": {},
   "source": [
    "#### Лабораторная работа 2. Основная фаза симплекс-метода\n",
    "Реализовать основную фазу симплекс-метода\n",
    "\n",
    "$----------------------------------------------$"
   ]
  },
  {
   "cell_type": "code",
   "execution_count": 69,
   "metadata": {},
   "outputs": [],
   "source": [
    "import numpy as np"
   ]
  },
  {
   "attachments": {},
   "cell_type": "markdown",
   "metadata": {},
   "source": [
    "<u>Шаг 0.</u> Определение исходных данных"
   ]
  },
  {
   "cell_type": "code",
   "execution_count": 70,
   "metadata": {},
   "outputs": [],
   "source": [
    "a = np.array([[-1, 1, 1, 0, 0], [1, 0, 0, 1, 0], [0, 1, 0, 0, 1]]) \n",
    "c_t = np.array([1, 1, 0, 0, 0])\n",
    "x_t = np.array([0, 0, 1, 3, 2])\n",
    "b = np.array([3, 4, 5])\n",
    "\n",
    "a_str_size = 5\n",
    "a_row_size = 3"
   ]
  },
  {
   "attachments": {},
   "cell_type": "markdown",
   "metadata": {},
   "source": [
    "<u>Шаг 1.</u> Строим базисную матрицу $A_B$ и находим ее обратную матрицу $A_{B}^{-1}$"
   ]
  },
  {
   "attachments": {},
   "cell_type": "markdown",
   "metadata": {},
   "source": [
    "<u>Шаг 2.</u> Формируем вектор $c_B$ — вектор компонент вектора $c$, чьи индексы\n",
    "принадлежат множеству $B$"
   ]
  },
  {
   "attachments": {},
   "cell_type": "markdown",
   "metadata": {},
   "source": [
    "<u>Шаг 3.</u> Находим вектор потенциалов $u^{T} = c^{T}_{B}A^{-1}_{B}$"
   ]
  },
  {
   "attachments": {},
   "cell_type": "markdown",
   "metadata": {},
   "source": [
    "<u>Шаг 4.</u> Находим вектор оценок $\\Delta^{T} = u^{T}A - c^{T}$"
   ]
  },
  {
   "attachments": {},
   "cell_type": "markdown",
   "metadata": {},
   "source": [
    "<u>Шаг 5.</u> Проверим условие оптимальности текущего плана $x$, а именно, если $\\Delta \\ge 0$, то текущий $x$ является оптимальным планом данной задачи и метод завершает свою работу, возвращая в качестве ответа текущий $x$"
   ]
  },
  {
   "attachments": {},
   "cell_type": "markdown",
   "metadata": {},
   "source": [
    "<u>Шаг 6.</u> Находим в векторе оценок $\\Delta$ первую отрицательную компоненту и ее индекс сохраним в переменной $j_0$"
   ]
  },
  {
   "attachments": {},
   "cell_type": "markdown",
   "metadata": {},
   "source": [
    "<u>Шаг 7.</u> Вычислим вектор $z = A_{B}^{-1}A_{j_{0}}$ , где $A_{j_{0}}$ — столбец матрицы $A$ с индексом $j_0$"
   ]
  },
  {
   "attachments": {},
   "cell_type": "markdown",
   "metadata": {},
   "source": [
    "<u>Шаг 8.</u> Находим вектор $\\theta_{T} = (\\theta_{1}, \\theta_{2}, ... , \\theta_{m}) \\in \\R^{m}$ по следующему правилу\n",
    "\n",
    "$\\theta_{i} = \\begin{cases}\n",
    "   \\frac {x_{j_{i}}} {z_{i}}, \\: если \\: z_{i} > 0 \\\\\n",
    "   \\infty, \\: если \\: z_{i} \\le 0\n",
    "   \\end{cases}$"
   ]
  },
  {
   "attachments": {},
   "cell_type": "markdown",
   "metadata": {},
   "source": [
    "<u>Шаг 9.</u> Вычислим $\\theta_{0} = min_{i \\in \\{1,\\:2,\\:...,\\:m\\}} \\theta_{i}$"
   ]
  },
  {
   "attachments": {},
   "cell_type": "markdown",
   "metadata": {},
   "source": [
    "<u>Шаг 10.</u> Проверяем условие неограниченности целевого функционала: если $\\theta_{0} = ∞$, то метод завершает свою работу с ответом «целевой функционал задачи не ограничен сверху на множестве допустимых планов»"
   ]
  },
  {
   "attachments": {},
   "cell_type": "markdown",
   "metadata": {},
   "source": [
    "<u>Шаг 11.</u> Находим первый индекс $k$, на котором достигается минимум, и сохраним в переменной $j_{*}$ $k$-й базисный индекс из $B$"
   ]
  },
  {
   "attachments": {},
   "cell_type": "markdown",
   "metadata": {},
   "source": [
    "<u>Шаг 12.</u> В упорядоченном множестве $B$ заменим $k$-й индекс $j_*$ на индекс $j_0$"
   ]
  },
  {
   "attachments": {},
   "cell_type": "markdown",
   "metadata": {},
   "source": [
    "<u>Шаг 13.</u> Обновим компоненты плана $x$ следующим образом: $x_{j_{0}} := \\theta_{0}$ и для каждого $i \\in \\{1, 2, . . . , m\\}$ такого, что $i \\ne k$\n",
    "\n",
    "$x_{j_i} := x_{j_i} - \\theta_{0}z_{i}$\n",
    "\n",
    "где $j_{i}$ — это $i$-й базисный индекс в $B$; $x_{j_{*}} := 0$. Переходим на <u>Шаг 1.</u>"
   ]
  },
  {
   "cell_type": "code",
   "execution_count": 71,
   "metadata": {},
   "outputs": [
    {
     "name": "stdout",
     "output_type": "stream",
     "text": [
      "x = [3 2 2 0 0] is optimal\n"
     ]
    }
   ],
   "source": [
    "while(True):\n",
    "    # Шаг 1. ===============================\n",
    "    a_b = np.zeros((a_row_size, b.size))\n",
    "\n",
    "    row_index = 0\n",
    "    for i in b:\n",
    "        a_b[:, row_index] = [x[i - 1] for x in a]\n",
    "        row_index += 1\n",
    "        \n",
    "    a_b_invert = np.linalg.inv(a_b)\n",
    "\n",
    "    # Шаг 2. ===============================\n",
    "    c_b_elems = []\n",
    "\n",
    "    for i in b:\n",
    "        c_b_elems.append(c_t[i - 1])\n",
    "\n",
    "    c_b = np.array(c_b_elems)\n",
    "\n",
    "    # Шаг 3. ===============================\n",
    "    u_t = l = np.dot(c_b, a_b_invert)\n",
    "\n",
    "    # Шаг 4. ===============================\n",
    "    delta_t = np.dot(u_t, a) - c_t\n",
    "\n",
    "    # Шаг 5. ===============================\n",
    "    if delta_t[delta_t < 0].size == 0:\n",
    "        print(\"x =\", x_t, \"is optimal\")\n",
    "        break\n",
    "\n",
    "    # Шаг 6. ===============================\n",
    "    j = np.argmax(delta_t < 0) + 1\n",
    "\n",
    "    # Шаг 7. ===============================\n",
    "    z = np.dot(a_b_invert, [x[j - 1] for x in a])\n",
    "\n",
    "    # Шаг 8. ===============================\n",
    "    teta_t = []\n",
    "    counter = 0\n",
    "\n",
    "    for i in z:\n",
    "        if i <= 0:\n",
    "            teta_t.append(np.Inf)\n",
    "        else:\n",
    "            teta_t.append(x_t[b[counter] - 1])\n",
    "        counter += 1\n",
    "        \n",
    "    teta_t = np.array(teta_t)\n",
    "\n",
    "    # Шаг 9. ===============================\n",
    "    min_elem = np.amin(teta_t)\n",
    "\n",
    "    # Шаг 10. ==============================\n",
    "    if min_elem == np.Inf:\n",
    "        print(\"Value is not limited from above\")\n",
    "        break\n",
    "        \n",
    "    # Шаг 11. ==============================\n",
    "    counter = 0\n",
    "    for i in teta_t:\n",
    "        if i == min_elem:\n",
    "            break\n",
    "        counter += 1\n",
    "        \n",
    "    # Шаг 12. ==============================\n",
    "    b[counter] = j\n",
    "\n",
    "    # Шаг 13. ==============================\n",
    "    counter_2 = 0\n",
    "    for i in b:\n",
    "        if counter == counter_2:\n",
    "            x_t[j - 1] = min_elem\n",
    "        else:\n",
    "            x_t[i - 1] = x_t[i - 1] - min_elem * z[counter_2]\n",
    "        \n",
    "        counter_2 += 1\n",
    "\n",
    "    for i in range(0, x_t.size):\n",
    "        if not np.isin(b, i + 1).any():\n",
    "            x_t[i] = 0"
   ]
  }
 ],
 "metadata": {
  "kernelspec": {
   "display_name": "Python 3",
   "language": "python",
   "name": "python3"
  },
  "language_info": {
   "codemirror_mode": {
    "name": "ipython",
    "version": 3
   },
   "file_extension": ".py",
   "mimetype": "text/x-python",
   "name": "python",
   "nbconvert_exporter": "python",
   "pygments_lexer": "ipython3",
   "version": "3.11.2"
  },
  "orig_nbformat": 4,
  "vscode": {
   "interpreter": {
    "hash": "dafa009b109f4839edf66eaa716f3b5183c8b1d26d0f08759c4466a2c793f599"
   }
  }
 },
 "nbformat": 4,
 "nbformat_minor": 2
}

{
 "cells": [
  {
   "attachments": {},
   "cell_type": "markdown",
   "metadata": {},
   "source": [
    "#### Лабораторная работа 3. Начальная фаза симплекс-метода\n",
    "Реализовать начальную фазу симплекс-метода. Определить совместна ли задача и, в случае положительного ответа, найти\n",
    "какой-нибудь базисный допустимый план $(x, B)$.\n",
    "\n",
    "$----------------------------------------------$"
   ]
  },
  {
   "cell_type": "code",
   "execution_count": 831,
   "metadata": {},
   "outputs": [],
   "source": [
    "import numpy as np"
   ]
  },
  {
   "attachments": {},
   "cell_type": "markdown",
   "metadata": {},
   "source": [
    "<u>Шаг 0.</u> Определение исходных данных задачи (1)"
   ]
  },
  {
   "cell_type": "code",
   "execution_count": 832,
   "metadata": {},
   "outputs": [],
   "source": [
    "c = np.array([1, 0, 0])\n",
    "b = np.array([0, 0])\n",
    "A = np.array([[1, 1, 1], [2, 2, 2]])\n",
    "\n",
    "n = c.size\n",
    "m = b.size"
   ]
  },
  {
   "attachments": {},
   "cell_type": "markdown",
   "metadata": {},
   "source": [
    "<u>Шаг 1.</u> Необходимо преобразовать задачу таким образом, чтобы вектор правых частей $b$ был неотрицательным. Для этого умножим на $−1$ все\n",
    "ограничения задачи, правая часть которых отрицательна. А именно, для каждого индекса $i \\in \\{1, 2, . . . , m\\}$ выполним следующую операцию: если $b_{i} < 0$, то умножим на $−1$ компоненту $b_{i}$ и $i$-ю строку матрицы $A$"
   ]
  },
  {
   "cell_type": "code",
   "execution_count": 833,
   "metadata": {},
   "outputs": [
    {
     "name": "stdout",
     "output_type": "stream",
     "text": [
      "A = [[1 1 1]\n",
      " [2 2 2]]\n"
     ]
    }
   ],
   "source": [
    "for i in range(0, m):\n",
    "    if b[i] < 0:\n",
    "        b[i] = b[i] * -1\n",
    "        A[i, :] = A[i, :] * -1\n",
    "\n",
    "print(\"A =\", A)"
   ]
  },
  {
   "attachments": {},
   "cell_type": "markdown",
   "metadata": {},
   "source": [
    "<u>Шаг 2.</u> Составим вспомогательную задачу (2) линейного программирования\n",
    "\n",
    "${\\tilde{c}}^{T} \\tilde{x} \\rightarrow max$\n",
    "\n",
    "$\\tilde{A} \\tilde{x} = b$                           \n",
    "\n",
    "$\\tilde{x} \\ge 0$\n",
    "\n",
    "где вектор коэффициентов при переменных в целевой функции имеет вид\n",
    "\n",
    "$\\tilde{c}^{T}=(\\underbrace{0,0,...,0}_{n},\\underbrace{-1,-1,...,-1}_{m}) \\in \\R^{n+m}$\n",
    "\n",
    "вектор переменных — $\\tilde{x} = (x_{1},x_{2},...,x_{n},x_{n+1},x_{n+2},...,x_{n+m})^{T} \\in \\R^{n+m}$ (переменные $x_{n+1},x_{n+2},...,x_{n+m}$ называются искусственными), матрица $\\tilde{A}$ получается из матрицы $A$ присоединением к ней справа единичной матрицы порядка $m$.\n",
    "\n",
    "Тогда ${\\tilde{c}}^{T}$ имеет вид:\n"
   ]
  },
  {
   "cell_type": "code",
   "execution_count": 834,
   "metadata": {},
   "outputs": [
    {
     "name": "stdout",
     "output_type": "stream",
     "text": [
      "tilde_T_c = [ 0  0  0 -1 -1]\n"
     ]
    }
   ],
   "source": [
    "tilde_t_c = []\n",
    "for i in range(0, n):\n",
    "    tilde_t_c.append(0)\n",
    "    \n",
    "for i in range(0, m):\n",
    "    tilde_t_c.append(-1)\n",
    "    \n",
    "tilde_t_c = np.array(tilde_t_c)\n",
    "\n",
    "print(\"tilde_T_c =\", tilde_t_c)"
   ]
  },
  {
   "attachments": {},
   "cell_type": "markdown",
   "metadata": {},
   "source": [
    "А матрица $\\tilde{A}$ имеет вид:"
   ]
  },
  {
   "cell_type": "code",
   "execution_count": 835,
   "metadata": {},
   "outputs": [
    {
     "name": "stdout",
     "output_type": "stream",
     "text": [
      "tilde_A = [[1. 1. 1. 1. 0.]\n",
      " [2. 2. 2. 0. 1.]]\n"
     ]
    }
   ],
   "source": [
    "tilde_A = np.hstack((A, np.eye(m)))\n",
    "print(\"tilde_A =\", tilde_A)"
   ]
  },
  {
   "attachments": {},
   "cell_type": "markdown",
   "metadata": {},
   "source": [
    "<u>Шаг 3.</u> Построим начальный базисный допустимый план $(\\tilde{x}, B)$ задачи (2)\n",
    "\n",
    "$\\tilde{x}=(0, 0, ..., 0, b_{1}, b_{2}, ..., b_{m}) \\in \\R^{n+m}$\n",
    "\n",
    "$B = \\{j_{1}=n+1, j_{2}=n+2, ..., j_{m}=n+m\\}$\n",
    "\n",
    "Тогда $\\tilde{x}$ будет выглядеть следующим образом:"
   ]
  },
  {
   "cell_type": "code",
   "execution_count": 836,
   "metadata": {},
   "outputs": [
    {
     "data": {
      "text/plain": [
       "array([0, 0, 0, 0, 0])"
      ]
     },
     "execution_count": 836,
     "metadata": {},
     "output_type": "execute_result"
    }
   ],
   "source": [
    "tilde_x = []\n",
    "for i in range(0, n):\n",
    "    tilde_x.append(0)\n",
    "    \n",
    "tilde_x = np.hstack((np.array(tilde_x), b))\n",
    "\n",
    "tilde_x"
   ]
  },
  {
   "attachments": {},
   "cell_type": "markdown",
   "metadata": {},
   "source": [
    "А $B$:"
   ]
  },
  {
   "cell_type": "code",
   "execution_count": 837,
   "metadata": {},
   "outputs": [
    {
     "name": "stdout",
     "output_type": "stream",
     "text": [
      "B = [4 5]\n"
     ]
    }
   ],
   "source": [
    "B = []\n",
    "for i in range(1, m + 1):\n",
    "    B.append(n + i)\n",
    "\n",
    "B = np.array(B)\n",
    "    \n",
    "print(\"B =\", B)"
   ]
  },
  {
   "attachments": {},
   "cell_type": "markdown",
   "metadata": {},
   "source": [
    "<u>Шаг 4.</u> Решим вспомогательную задачу (2) основной фазой симплекс-метода и получим оптимальный план\n",
    "\n",
    "$\\tilde{x} = (\\tilde{x}_{1}, \\tilde{x}_{2}, ..., \\tilde{x}_{n}, \\tilde{x}_{n + 1}, \\tilde{x}_{n + 2}, ..., \\tilde{x}_{n + m})^{T}$\n",
    "\n",
    "и соответствующее ему множество базисных индексов $B$."
   ]
  },
  {
   "cell_type": "code",
   "execution_count": 838,
   "metadata": {},
   "outputs": [
    {
     "name": "stdout",
     "output_type": "stream",
     "text": [
      "x = [0 0 0 0 0] is optimal\n",
      "B = [1 5]\n"
     ]
    }
   ],
   "source": [
    "a = tilde_A\n",
    "c_t = tilde_t_c\n",
    "x_t = tilde_x\n",
    "\n",
    "a_str_size = n + m\n",
    "a_row_size = m\n",
    "\n",
    "while(True):\n",
    "    # Шаг 1. ===============================\n",
    "    a_b = np.zeros((a_row_size, B.size))\n",
    "\n",
    "    row_index = 0\n",
    "    for i in B:\n",
    "        a_b[:, row_index] = [x[i - 1] for x in a]\n",
    "        row_index += 1\n",
    "        \n",
    "    a_b_invert = np.linalg.inv(a_b)\n",
    "\n",
    "    # Шаг 2. ===============================\n",
    "    c_b_elems = []\n",
    "\n",
    "    for i in B:\n",
    "        c_b_elems.append(c_t[i - 1])\n",
    "\n",
    "    c_b = np.array(c_b_elems)\n",
    "\n",
    "    # Шаг 3. ===============================\n",
    "    u_t = l = np.dot(c_b, a_b_invert)\n",
    "\n",
    "    # Шаг 4. ===============================\n",
    "    delta_t = np.dot(u_t, a) - c_t\n",
    "\n",
    "    # Шаг 5. ===============================\n",
    "    if delta_t[delta_t < 0].size == 0:\n",
    "        print(\"x =\", x_t, \"is optimal\")\n",
    "        tilde_x = x_t\n",
    "        print(\"B =\", B)\n",
    "        break\n",
    "\n",
    "    # Шаг 6. ===============================\n",
    "    j = np.argmax(delta_t < 0) + 1\n",
    "\n",
    "    # Шаг 7. ===============================\n",
    "    z = np.dot(a_b_invert, [x[j - 1] for x in a])\n",
    "\n",
    "    # Шаг 8. ===============================\n",
    "    teta_t = []\n",
    "    counter = 0\n",
    "\n",
    "    for i in z:\n",
    "        if i <= 0:\n",
    "            teta_t.append(np.Inf)\n",
    "        else:\n",
    "            teta_t.append(x_t[b[counter] - 1])\n",
    "        counter += 1\n",
    "        \n",
    "    teta_t = np.array(teta_t)\n",
    "\n",
    "    # Шаг 9. ===============================\n",
    "    min_elem = np.amin(teta_t)\n",
    "\n",
    "    # Шаг 10. ==============================\n",
    "    if min_elem == np.Inf:\n",
    "        print(\"Value is not limited from above\")\n",
    "        break\n",
    "        \n",
    "    # Шаг 11. ==============================\n",
    "    counter = 0\n",
    "    for i in teta_t:\n",
    "        if i == min_elem:\n",
    "            break\n",
    "        counter += 1\n",
    "        \n",
    "    # Шаг 12. ==============================\n",
    "    B[counter] = j\n",
    "\n",
    "    # Шаг 13. ==============================\n",
    "    counter_2 = 0\n",
    "    for i in B:\n",
    "        if counter == counter_2:\n",
    "            x_t[j - 1] = min_elem\n",
    "        else:\n",
    "            x_t[i - 1] = x_t[i - 1] - min_elem * z[counter_2]\n",
    "        \n",
    "        counter_2 += 1\n",
    "\n",
    "    for i in range(0, x_t.size):\n",
    "        if not np.isin(b, i + 1).any():\n",
    "            x_t[i] = 0"
   ]
  },
  {
   "attachments": {},
   "cell_type": "markdown",
   "metadata": {},
   "source": [
    "Шаг 5. Проверим условия совместности: если $\\tilde{x}_{n+1} = \\tilde{x}_{n+2} = ... = \\tilde{x}_{n+m} = 0$ то задача (1) совместна; в противном случае, задача (1) не совместна и метод завершает свою работу."
   ]
  },
  {
   "cell_type": "code",
   "execution_count": 839,
   "metadata": {},
   "outputs": [
    {
     "name": "stdout",
     "output_type": "stream",
     "text": [
      "The problem (1) is joint\n"
     ]
    }
   ],
   "source": [
    "joint = True\n",
    "for i in range(n, m + n):\n",
    "    if tilde_x[i] != 0:\n",
    "        joint = False\n",
    "        break\n",
    "    \n",
    "if joint:\n",
    "    print(\"The problem (1) is joint\")\n",
    "else:\n",
    "    print(\"The problem (1) is not joint\")\n",
    "\n"
   ]
  },
  {
   "attachments": {},
   "cell_type": "markdown",
   "metadata": {},
   "source": [
    "Шаг 6. Формируем допустимый план $x = (\\tilde{x}_{1}, \\tilde{x}_{2}, ..., \\tilde{x}_{n})$ задачи (1). Для него необходимо подобрать множество базисных индексов. С этой целью скорректируем множество B следующим образом."
   ]
  },
  {
   "cell_type": "code",
   "execution_count": 840,
   "metadata": {},
   "outputs": [
    {
     "name": "stdout",
     "output_type": "stream",
     "text": [
      "x = [0 0 0]\n"
     ]
    }
   ],
   "source": [
    "x = []\n",
    "\n",
    "for i in range(0, n):\n",
    "    x.append(tilde_x[i])\n",
    "\n",
    "x = np.array(x)\n",
    "\n",
    "print(\"x =\", x)"
   ]
  },
  {
   "attachments": {},
   "cell_type": "markdown",
   "metadata": {},
   "source": [
    "<u>Шаг 7 - 11.</u> Корректирующий алгоритм (цикл):\n",
    "\n",
    "\n",
    "$\\boldsymbol{\\cdot}$ Если $B \\subseteq \\{1, 2, . . . , n\\}$, то алгоритм завершает свою работу и возвращает базисный допустимый план $(x, B)$\n",
    "\n",
    "$\\boldsymbol{\\cdot}$ Выберем в наборе $B$ максимальный индекс искусственной переменной  $j_{k} = n + i$\n",
    "\n",
    "$\\boldsymbol{\\cdot}$ Для каждого индекса $j \\in \\{1, 2, . . . , n\\} \\backslash B$ вычислим вектор $ℓ(j) = \\tilde{A}^{-1}_{B} \\tilde{A}_{j}$ , где $\\tilde{A}_{j}$ — это $j$-ый столбец матрицы $\\tilde{A}$.\n",
    "\n",
    "$\\boldsymbol{\\cdot}$ Если найдется индекс $j \\in \\{1, 2, . . . , n\\} \\backslash B$ такой, что $(ℓ(j))_{k} \\ne 0$, то заменим в наборе $B$ значение $j_{k}$, равное $n + i$, на $j$.\n",
    "\n",
    "$\\boldsymbol{\\cdot}$ Если для любого индекса $j \\in \\{1, 2, . . . , n\\} \\backslash B$ выполняется $(ℓ(j))_{k} = 0$, то $i$-е основное ограничение задачи (1) линейно выражается через остальные и его необходимо удалить. В этом случае удалим $i$-ую строку из матрицы $A$ и $i$-ую компоненту из вектора $b$. Удалим из $B$ индекс $j_{k} = n + i$. Кроме этого, удалим $i$-ую строку из матрицы $\\tilde{A}$"
   ]
  },
  {
   "cell_type": "code",
   "execution_count": 841,
   "metadata": {},
   "outputs": [
    {
     "name": "stdout",
     "output_type": "stream",
     "text": [
      "x = [0 0 0]\n",
      "B = [1]\n",
      "A = [[1 1 1]]\n",
      "b = [0]\n"
     ]
    }
   ],
   "source": [
    "while(True):\n",
    "    #1 ==============\n",
    "    subset = [i for i in range(1, n + 1)]\n",
    "    exit_flag = True\n",
    "    for B_elem in B:\n",
    "        if B_elem not in subset:\n",
    "            exit_flag = False\n",
    "    if exit_flag:\n",
    "        break\n",
    "    \n",
    "    #2 ==============\n",
    "    k = np.argmax(B)\n",
    "    j_k = B[k]\n",
    "    i = j_k - n\n",
    "    \n",
    "    #3 ==============\n",
    "    tilde_A_B = np.empty([m, B.size])\n",
    "\n",
    "    counter = 0\n",
    "    for b_index in B:\n",
    "        tilde_A_B[:, [counter]] = tilde_A[:, [b_index - 1]]\n",
    "        counter += 1\n",
    "    \n",
    "    for elem in B:\n",
    "        if elem in subset:\n",
    "            subset.remove(elem)\n",
    "    \n",
    "    l = []\n",
    "    tilde_A_inv = np.linalg.inv(tilde_A_B)\n",
    "    for index in subset:\n",
    "        l_j = np.dot(tilde_A_inv, tilde_A[0:n, [index - 1]])\n",
    "        l.append(l_j)\n",
    "    \n",
    "    #4 ==============\n",
    "    e_zero = True\n",
    "    counter = 0\n",
    "    \n",
    "    l = np.array(l)\n",
    "    for vec in l:\n",
    "        if vec[k][0] != 0:\n",
    "            B[k] = subset[counter]\n",
    "            ne_zero = False\n",
    "        counter += 1\n",
    "        \n",
    "    #5 ==============\n",
    "    if e_zero:\n",
    "        A = np.delete(A, i - 1, 0)\n",
    "        b = np.delete(b, i - 1)\n",
    "        tilde_A = np.delete(tilde_A, i - 1)\n",
    "        B = np.delete(B, k)\n",
    "        \n",
    "print(\"x =\", x)\n",
    "print(\"B =\", B)\n",
    "print(\"A =\", A)\n",
    "print(\"b =\", b)\n"
   ]
  }
 ],
 "metadata": {
  "kernelspec": {
   "display_name": "Python 3",
   "language": "python",
   "name": "python3"
  },
  "language_info": {
   "codemirror_mode": {
    "name": "ipython",
    "version": 3
   },
   "file_extension": ".py",
   "mimetype": "text/x-python",
   "name": "python",
   "nbconvert_exporter": "python",
   "pygments_lexer": "ipython3",
   "version": "3.11.2"
  },
  "orig_nbformat": 4
 },
 "nbformat": 4,
 "nbformat_minor": 2
}

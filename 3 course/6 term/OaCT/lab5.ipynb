{
 "cells": [
  {
   "attachments": {},
   "cell_type": "markdown",
   "metadata": {},
   "source": [
    "#### Лабораторная работа 5. Метод потенциалов для решения транспортной задачи \n",
    "Реализовать метод потенциалов для решения транспортной задачи.\n",
    "\n",
    "$----------------------------------------------$"
   ]
  },
  {
   "cell_type": "code",
   "execution_count": 253,
   "metadata": {},
   "outputs": [],
   "source": [
    "import numpy as np"
   ]
  },
  {
   "cell_type": "markdown",
   "metadata": {},
   "source": [
    "<u>Шаг 0.</u> Определение исходных данных задачи"
   ]
  },
  {
   "cell_type": "code",
   "execution_count": 254,
   "metadata": {},
   "outputs": [],
   "source": [
    "a = np.array([100, 300, 300])\n",
    "b = np.array([300, 200, 200])\n",
    "c = np.array([[8, 4, 1], [8, 4, 3], [9, 7, 5]])\n",
    "\n",
    "n = a.size\n",
    "m = b.size\n",
    "b_path = []"
   ]
  },
  {
   "attachments": {},
   "cell_type": "markdown",
   "metadata": {},
   "source": [
    "<u>Шаг 1.</u> Проверим задачу на открытость. При необходимости добавим фиктивных поставщиков или потребителей"
   ]
  },
  {
   "cell_type": "code",
   "execution_count": 255,
   "metadata": {},
   "outputs": [
    {
     "name": "stdout",
     "output_type": "stream",
     "text": [
      "Задача закрытая\n"
     ]
    }
   ],
   "source": [
    "a_sum = np.sum(a)\n",
    "b_sum = np.sum(b)\n",
    "\n",
    "if a_sum != b_sum:\n",
    "    print(\"Задача открытая\")\n",
    "    if a_sum > b_sum:\n",
    "        c = np.append(c, [np.zeros(n)], axis=0)\n",
    "        b = np.append(b, (a_sum - b_sum))\n",
    "    if a_sum < b_sum:\n",
    "        zer = np.array([0])\n",
    "        c = np.append(c, np.repeat(zer[np.newaxis,:], c.shape[0], axis=0), axis=1)\n",
    "        a = np.append(a, b_sum - a_sum)\n",
    "else:\n",
    "    print(\"Задача закрытая\")\n",
    "\n",
    "n = a.size\n",
    "m = b.size"
   ]
  },
  {
   "attachments": {},
   "cell_type": "markdown",
   "metadata": {},
   "source": [
    "<u>Шаг 2.</u> Сформируем начальный допустимый план $X$, используя для этого метод северо-западного угла."
   ]
  },
  {
   "cell_type": "code",
   "execution_count": 256,
   "metadata": {},
   "outputs": [
    {
     "name": "stdout",
     "output_type": "stream",
     "text": [
      "[[100.   0.   0.]\n",
      " [200. 100.   0.]\n",
      " [  0. 100. 200.]]\n"
     ]
    }
   ],
   "source": [
    "a_copy = np.copy(a)\n",
    "b_copy = np.copy(b)\n",
    "x = np.zeros((m, n))\n",
    "i = 0\n",
    "j = 0\n",
    "\n",
    "while i != n:\n",
    "    if a_copy[i] != 0 and b_copy[j] != 0:\n",
    "        if a_copy[i] > b_copy[j]:\n",
    "            x[i][j] = b_copy[j]\n",
    "            a_copy[i] -= b_copy[j]\n",
    "            b_copy[j] = 0\n",
    "            j += 1\n",
    "        elif a_copy[i] < b_copy[j]:\n",
    "            x[i][j] = a_copy[i]\n",
    "            b_copy[j] -= a_copy[i]\n",
    "            a_copy[i] = 0\n",
    "            i += 1\n",
    "        elif a_copy[i] == b_copy[j]:\n",
    "            x[i][j] = a_copy[i]\n",
    "            a_copy[i] = 0\n",
    "            b_copy[j] = 0\n",
    "            i += 1\n",
    "            j += 1\n",
    "    elif a_copy[i] != 0:\n",
    "        i += 1\n",
    "    elif b_copy[j] != 0:\n",
    "        j += 1\n",
    "\n",
    "print(x)"
   ]
  },
  {
   "attachments": {},
   "cell_type": "markdown",
   "metadata": {},
   "source": [
    "<u>Шаг 3.</u> Определим потенциалы для всех занятых ячеек. Первоначально определим потенциалы для клетки с наибольшей стоимостью перевозки"
   ]
  },
  {
   "cell_type": "code",
   "execution_count": 257,
   "metadata": {},
   "outputs": [
    {
     "name": "stdout",
     "output_type": "stream",
     "text": [
      "[4. 0. 0.]\n",
      "[4. 4. 0.]\n"
     ]
    }
   ],
   "source": [
    "a_potential = np.zeros(n)\n",
    "b_potential = np.zeros(m)\n",
    "a_potential_flag = np.zeros(n)\n",
    "b_potential_flag = np.zeros(m)\n",
    "\n",
    "c_copy = np.zeros((m, n))\n",
    "\n",
    "for i in range(0, n):\n",
    "    for j in range(0, m):\n",
    "        if x[j][i] != 0:\n",
    "            c_copy[j][i] = c[j][i]\n",
    "\n",
    "for i in b_path:\n",
    "    c_copy[i[0]][i[1]] = c[i[0]][i[1]]\n",
    "    \n",
    "c_max = np.max(c_copy)\n",
    "\n",
    "for i in range(0, n):\n",
    "    for j in range(0, m):\n",
    "        if c[j][i] == c_max and x[j][i] != 0:\n",
    "            if c[j][i] % 2 == 0:\n",
    "                a_potential[i] = c[j][i]/2\n",
    "                b_potential[j] = c[j][i]/2\n",
    "                a_potential_flag[i] = 1\n",
    "                b_potential_flag[j] = 1\n",
    "            else: \n",
    "                a_potential[i] = int(c[j][i]/2)\n",
    "                b_potential[j] = int(c[j][i]/2) + 1\n",
    "                a_potential_flag[i] = 1\n",
    "                b_potential_flag[j] = 1\n",
    "                \n",
    "print(a_potential)\n",
    "print(b_potential)"
   ]
  },
  {
   "attachments": {},
   "cell_type": "markdown",
   "metadata": {},
   "source": [
    "<u>Шаг 4.</u> Теперь найдем оставшиеся потенциалы"
   ]
  },
  {
   "cell_type": "code",
   "execution_count": 258,
   "metadata": {},
   "outputs": [
    {
     "name": "stdout",
     "output_type": "stream",
     "text": [
      "[ 4.  0. -2.]\n",
      "[4. 4. 7.]\n"
     ]
    }
   ],
   "source": [
    "while(np.max(c_copy) != 0):\n",
    "    for i in range(0, n):\n",
    "        for j in range(0, m):\n",
    "            if c_copy[j][i] > 0:\n",
    "                if (a_potential[i] != 0 or a_potential_flag[i] != 0) and b_potential_flag[j] == 0:\n",
    "                    b_potential[j] = c_copy[j][i] - a_potential[i]\n",
    "                    b_potential_flag[j] = 1\n",
    "                    c_copy[j][i] = -1\n",
    "                elif (b_potential[j] != 0 or b_potential_flag[j] != 0) and a_potential_flag[i] == 0:\n",
    "                    a_potential[i] = c_copy[j][i] - b_potential[j]\n",
    "                    a_potential_flag[i] = 1\n",
    "                    c_copy[j][i] = -1\n",
    "                elif (a_potential[i] != 0 or a_potential_flag[i] != 0) and (b_potential[i] != 0 or b_potential_flag[i] != 0):\n",
    "                    c_copy[j][i] = -1\n",
    "                    \n",
    "print(a_potential)\n",
    "print(b_potential)"
   ]
  },
  {
   "attachments": {},
   "cell_type": "markdown",
   "metadata": {},
   "source": [
    "<u>Шаг 5.</u> Построим матрицу потенциалов для всех клеток"
   ]
  },
  {
   "cell_type": "code",
   "execution_count": 259,
   "metadata": {},
   "outputs": [
    {
     "data": {
      "text/plain": [
       "array([[ 8.,  4.,  2.],\n",
       "       [ 8.,  4.,  2.],\n",
       "       [11.,  7.,  5.]])"
      ]
     },
     "execution_count": 259,
     "metadata": {},
     "output_type": "execute_result"
    }
   ],
   "source": [
    "new_p = np.zeros(c.shape)\n",
    "for i in range(len(a_potential)):\n",
    "    for j in range(len(b_potential)):\n",
    "        new_p[j][i] = a_potential[i] + b_potential[j]\n",
    "        \n",
    "new_p"
   ]
  },
  {
   "attachments": {},
   "cell_type": "markdown",
   "metadata": {},
   "source": [
    "<u>Шаг 6.</u> Найдем наиболее неоптимальную клетку (или убедимся, что таких не осталось)"
   ]
  },
  {
   "cell_type": "code",
   "execution_count": 260,
   "metadata": {},
   "outputs": [],
   "source": [
    "min_elem = 1\n",
    "out_coord = [0, 0]\n",
    "\n",
    "for i in range(n):\n",
    "    for j in range(m):\n",
    "        if c[i][j] - new_p[i][j] < min_elem:\n",
    "            out_coord[0] = i\n",
    "            out_coord[1] = j\n",
    "            min_elem = c[i][j] - new_p[i][j]\n",
    "\n",
    "if min_elem == 1:\n",
    "    print(\"План оптимальный\")\n",
    "    print(x)\n",
    "    \n",
    "x[out_coord[0]][out_coord[1]] = -1\n",
    "start_point = tuple(out_coord)"
   ]
  },
  {
   "attachments": {},
   "cell_type": "markdown",
   "metadata": {},
   "source": [
    "<u>Шаг 7.</u> Найдем цикл с неоптимальной точкой, где все другие элементы были бы базисные. Для этого рекурсивно проверим точки вокруг найденой неоптимальной."
   ]
  },
  {
   "cell_type": "code",
   "execution_count": 261,
   "metadata": {},
   "outputs": [
    {
     "data": {
      "text/plain": [
       "[(2, 0), (2, 1), (1, 1), (1, 0)]"
      ]
     },
     "execution_count": 261,
     "metadata": {},
     "output_type": "execute_result"
    }
   ],
   "source": [
    "FLAG_END = False\n",
    "\n",
    "\n",
    "def find_cycle(mat: list, pos: tuple, dir_row: bool = True, path: list = None) -> list:\n",
    "    \"\"\" Построение цикла опорного плана транспортной задачи.\n",
    "        При условии, что цикл существует и он единственный.\n",
    "    \"\"\"\n",
    "    global FLAG_END\n",
    "\n",
    "    if not path:\n",
    "        path = [pos]\n",
    "    ii, jj = pos\n",
    "    # Собираем сначала соседей по строке, потом через раз на повороте.\n",
    "    if dir_row:\n",
    "        neighbors = [(ii, k) for k in range(len(mat[0])) if k != jj and mat[ii][k]]\n",
    "    # Собираем соседей по столбцу на каждом втором повороте.\n",
    "    else:\n",
    "        neighbors = [(k, jj) for k in range(len(mat)) if k != ii and mat[k][jj]]\n",
    "    # Если есть соседи:\n",
    "    if neighbors:\n",
    "        # Если стартовая точка есть в списке соседей - путь найден!\n",
    "        if start_point in neighbors:\n",
    "            FLAG_END = True\n",
    "            return path\n",
    "        else:\n",
    "            # Меняем направление для поворота.\n",
    "            dir_row = not dir_row\n",
    "            # Перебираем всех соседей.\n",
    "            for neighbor in neighbors:\n",
    "                # Кладем очередную вершину в список пути.\n",
    "                path.append(neighbor)\n",
    "                # Запускаем рекурсию по ненулевым соседям.\n",
    "                find_cycle(mat, neighbor, dir_row, path)\n",
    "                # Если нашли путь дальше не перебираем.\n",
    "                if FLAG_END:\n",
    "                    break\n",
    "                # Если путь не найден, то удаляем вершину из списка пути.\n",
    "                else:\n",
    "                    path.pop()\n",
    "    return path\n",
    "    \n",
    "b_path = find_cycle(x, start_point)\n",
    "x[out_coord[0]][out_coord[1]] = 0\n",
    "FLAG_END = False\n",
    "b_path"
   ]
  },
  {
   "attachments": {},
   "cell_type": "markdown",
   "metadata": {},
   "source": [
    "<u>Шаг 8.</u> Создадим вектор знаков для найденного цикла"
   ]
  },
  {
   "cell_type": "code",
   "execution_count": 262,
   "metadata": {},
   "outputs": [
    {
     "data": {
      "text/plain": [
       "['+', '-', '+', '-']"
      ]
     },
     "execution_count": 262,
     "metadata": {},
     "output_type": "execute_result"
    }
   ],
   "source": [
    "signs = []\n",
    "i = 0\n",
    "\n",
    "for i in range(len(b_path)):\n",
    "    if i%2 == 0:\n",
    "        signs.append('+')\n",
    "    else:\n",
    "        signs.append('-')\n",
    "    i += 1\n",
    "    \n",
    "signs"
   ]
  },
  {
   "attachments": {},
   "cell_type": "markdown",
   "metadata": {},
   "source": [
    "<u>Шаг 9.</u> Найдем наименьший элемент цикла со знаком '-'"
   ]
  },
  {
   "cell_type": "code",
   "execution_count": 263,
   "metadata": {},
   "outputs": [
    {
     "data": {
      "text/plain": [
       "100.0"
      ]
     },
     "execution_count": 263,
     "metadata": {},
     "output_type": "execute_result"
    }
   ],
   "source": [
    "min_cycle_elem = x[b_path[1][0]][b_path[1][1]]\n",
    "min_elem_coord = (b_path[1][0], b_path[1][1])\n",
    "for i in range(len(b_path)):\n",
    "    if signs[i] == '-':\n",
    "        if x[b_path[i][0]][b_path[i][1]] < min_cycle_elem:\n",
    "            min_cycle_elem = x[b_path[i][0]][b_path[i][1]]\n",
    "            min_elem_coord = (b_path[1][0], b_path[1][1])\n",
    "            \n",
    "min_cycle_elem"
   ]
  },
  {
   "attachments": {},
   "cell_type": "markdown",
   "metadata": {},
   "source": [
    "<u>Шаг 10.</u> Проведем преобразования транспортного плана (при этом удалим элемент с наименьшим значением из вектора пути) и переходим к шагу 3"
   ]
  },
  {
   "cell_type": "code",
   "execution_count": 264,
   "metadata": {},
   "outputs": [
    {
     "data": {
      "text/plain": [
       "array([[100.,   0.,   0.],\n",
       "       [100., 200.,   0.],\n",
       "       [100.,   0., 200.]])"
      ]
     },
     "execution_count": 264,
     "metadata": {},
     "output_type": "execute_result"
    }
   ],
   "source": [
    "for i in range(len(b_path)):\n",
    "    if signs[i] == '-':\n",
    "        x[b_path[i][0]][b_path[i][1]] = x[b_path[i][0]][b_path[i][1]] - min_cycle_elem\n",
    "    elif signs[i] == '+':\n",
    "        x[b_path[i][0]][b_path[i][1]] = x[b_path[i][0]][b_path[i][1]] + min_cycle_elem\n",
    "\n",
    "b_path.remove(min_elem_coord)\n",
    "x"
   ]
  },
  {
   "cell_type": "code",
   "execution_count": 265,
   "metadata": {},
   "outputs": [
    {
     "name": "stdout",
     "output_type": "stream",
     "text": [
      "Оптимальный план: \n",
      "[[  0.   0. 100.]\n",
      " [  0. 200. 100.]\n",
      " [300.   0.   0.]]\n"
     ]
    }
   ],
   "source": [
    "while(True):\n",
    "    #Шаг 3 ==========================================\n",
    "    a_potential = np.zeros(n)\n",
    "    b_potential = np.zeros(m)\n",
    "    a_potential_flag = np.zeros(n)\n",
    "    b_potential_flag = np.zeros(m)\n",
    "\n",
    "    c_copy = np.zeros((m, n))\n",
    "\n",
    "    for i in range(0, n):\n",
    "        for j in range(0, m):\n",
    "            if x[j][i] != 0:\n",
    "                c_copy[j][i] = c[j][i]\n",
    "\n",
    "    for i in b_path:\n",
    "        c_copy[i[0]][i[1]] = c[i[0]][i[1]]\n",
    "    \n",
    "    c_max = np.max(c_copy)\n",
    "\n",
    "    for i in range(0, n):\n",
    "        for j in range(0, m):\n",
    "            if c[j][i] == c_max and x[j][i] != 0:\n",
    "                if c[j][i] % 2 == 0:\n",
    "                    a_potential[i] = c[j][i]/2\n",
    "                    b_potential[j] = c[j][i]/2\n",
    "                    a_potential_flag[i] = 1\n",
    "                    b_potential_flag[j] = 1\n",
    "                else: \n",
    "                    a_potential[i] = int(c[j][i]/2)\n",
    "                    b_potential[j] = int(c[j][i]/2) + 1\n",
    "                    a_potential_flag[i] = 1\n",
    "                    b_potential_flag[j] = 1\n",
    "\n",
    "    #Шаг 4 ==========================================\n",
    "    while(np.max(c_copy) != 0):\n",
    "        for i in range(0, n):\n",
    "            for j in range(0, m):\n",
    "                if c_copy[j][i] > 0:\n",
    "                    if (a_potential[i] != 0 or a_potential_flag[i] != 0) and b_potential_flag[j] == 0:\n",
    "                        b_potential[j] = c_copy[j][i] - a_potential[i]\n",
    "                        b_potential_flag[j] = 1\n",
    "                        c_copy[j][i] = -1\n",
    "                    elif (b_potential[j] != 0 or b_potential_flag[j] != 0) and a_potential_flag[i] == 0:\n",
    "                        a_potential[i] = c_copy[j][i] - b_potential[j]\n",
    "                        a_potential_flag[i] = 1\n",
    "                        c_copy[j][i] = -1\n",
    "                    elif (a_potential[i] != 0 or a_potential_flag[i] != 0) and (b_potential[i] != 0 or b_potential_flag[i] != 0):\n",
    "                        c_copy[j][i] = -1\n",
    "                    \n",
    "    #Шаг 5 ==========================================\n",
    "    new_p = np.zeros(c.shape)\n",
    "    for i in range(len(a_potential)):\n",
    "        for j in range(len(b_potential)):\n",
    "            new_p[j][i] = a_potential[i] + b_potential[j]\n",
    "            \n",
    "    #Шаг 6 ==========================================\n",
    "    min_elem = 0\n",
    "    out_coord = [0, 0]\n",
    "    for i in range(n):\n",
    "        for j in range(m):\n",
    "            if c[i][j] - new_p[i][j] < min_elem:\n",
    "                out_coord[0] = i\n",
    "                out_coord[1] = j\n",
    "                min_elem = c[i][j] - new_p[i][j]\n",
    "    if min_elem == 0:\n",
    "        print(\"Оптимальный план: \")\n",
    "        print(x)\n",
    "        break\n",
    "    \n",
    "    x[out_coord[0]][out_coord[1]] = -1\n",
    "    start_point = tuple(out_coord)\n",
    "\n",
    "    #Шаг 7 ==========================================\n",
    "    b_path = find_cycle(x, start_point, start_point, False)\n",
    "    x[out_coord[0]][out_coord[1]] = 0\n",
    "    FLAG_END = False\n",
    "  \n",
    "    #Шаг 8 ==========================================\n",
    "    signs = []\n",
    "    i = 0\n",
    "    for i in range(len(b_path)):\n",
    "        if i%2 == 0:\n",
    "            signs.append('+')\n",
    "        else:\n",
    "            signs.append('-')\n",
    "        i += 1\n",
    "        \n",
    "    #Шаг 9 ==========================================\n",
    "    min_cycle_elem = x[b_path[1][0]][b_path[1][1]]\n",
    "    min_elem_coord = (b_path[1][0], b_path[1][1])\n",
    "    for i in range(len(b_path)):\n",
    "        if signs[i] == '-':\n",
    "            if x[b_path[i][0]][b_path[i][1]] < min_cycle_elem:\n",
    "                min_cycle_elem = x[b_path[i][0]][b_path[i][1]]\n",
    "                min_elem_coord = (b_path[1][0], b_path[1][1])\n",
    "                \n",
    "    #Шаг 10 ==========================================      \n",
    "    for i in range(len(b_path)):\n",
    "        if signs[i] == '-':\n",
    "            x[b_path[i][0]][b_path[i][1]] = x[b_path[i][0]][b_path[i][1]] - min_cycle_elem\n",
    "        elif signs[i] == '+':\n",
    "            x[b_path[i][0]][b_path[i][1]] = x[b_path[i][0]][b_path[i][1]] + min_cycle_elem\n",
    "\n",
    "    b_path.remove(min_elem_coord)"
   ]
  }
 ],
 "metadata": {
  "kernelspec": {
   "display_name": "Python 3",
   "language": "python",
   "name": "python3"
  },
  "language_info": {
   "codemirror_mode": {
    "name": "ipython",
    "version": 3
   },
   "file_extension": ".py",
   "mimetype": "text/x-python",
   "name": "python",
   "nbconvert_exporter": "python",
   "pygments_lexer": "ipython3",
   "version": "3.11.2"
  },
  "orig_nbformat": 4
 },
 "nbformat": 4,
 "nbformat_minor": 2
}

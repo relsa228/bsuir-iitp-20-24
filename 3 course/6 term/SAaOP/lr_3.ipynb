{
 "cells": [
  {
   "cell_type": "markdown",
   "metadata": {},
   "source": [
    "#### Лабораторная работа 3. Задача о целочисленном рюкзаке\n",
    "Реализовать метод динамического программирования для решения задачи о целочисленном рюкзаке.\n",
    "\n",
    "$--------------------------------------------$"
   ]
  },
  {
   "cell_type": "markdown",
   "metadata": {},
   "source": [
    "Шаг 0. Определим входные данные\n"
   ]
  },
  {
   "cell_type": "code",
   "execution_count": 45,
   "metadata": {},
   "outputs": [],
   "source": [
    "#name/size/price\n",
    "\n",
    "items = [[\"Item 1\", 5, 3], [\"Item 2\", 3, 23], [\"Item 3\", 6, 7], [\"Item 4\", 2, 7], [\"Item 5\", 7, 1], \n",
    "         [\"Item 6\", 7, 2], [\"Item 7\", 2, 9], [\"Item 8\", 3, 1], [\"Item 9\", 7, 9], [\"Item 10\", 6, 2]]\n",
    "\n",
    "capacity = 20"
   ]
  },
  {
   "cell_type": "markdown",
   "metadata": {},
   "source": [
    "Шаг 1. Возьмем пару $(k, b)$ в качестве параметров размерности, где $k$ — элементы среди которых необходимо выбирать, а $b$ — размер рюкзака. Тогда через $OPT(k, b)$ обозначим максимальную суммарную ценность выбранных предметов, тогда:\n",
    "\n",
    "$$\n",
    "OPT(k, b) = \\max_{\\substack{(x_1, ..., x_{k}) \\\\ {v_{1}+...+v_{k}x_{k}\\le b} \\\\ {x_{i} \\in \\{0, 1\\}, \\space i=1,...,k}}} \\left( \\sum_{i=1}^{n} c_{i}x_{i} \\right)\n",
    "$$"
   ]
  },
  {
   "cell_type": "code",
   "execution_count": 46,
   "metadata": {},
   "outputs": [],
   "source": [
    "n = len(items)\n",
    "OPT = [[0 for _ in range(capacity + 1)] for _ in range(n + 1)]\n",
    "selected_items = [[0 for _ in range(capacity + 1)] for _ in range(n + 1)]"
   ]
  },
  {
   "cell_type": "markdown",
   "metadata": {},
   "source": [
    "Шаг 2. Обозначим через $x(k, b)$ величину, которая принимает значение 0 или 1, при этом: \n",
    "\n",
    "$\\bullet \\quad x(k, b) = 1$, если последний выбранный предмет в оптимальном решении задачи $(k, b)$ — это предмет под номером $k$ \n",
    "\n",
    "$\\bullet \\quad x(k, b) = 0$ в противном случае"
   ]
  },
  {
   "cell_type": "code",
   "execution_count": 47,
   "metadata": {},
   "outputs": [
    {
     "data": {
      "text/plain": [
       "[[0, 0, 0, 0, 0, 0, 0, 0, 0, 0, 0, 0, 0, 0, 0, 0, 0, 0, 0, 0, 0],\n",
       " [0, 0, 0, 0, 0, 1, 1, 1, 1, 1, 1, 1, 1, 1, 1, 1, 1, 1, 1, 1, 1],\n",
       " [0, 0, 0, 1, 1, 1, 1, 1, 1, 1, 1, 1, 1, 1, 1, 1, 1, 1, 1, 1, 1],\n",
       " [0, 0, 0, 0, 0, 0, 0, 0, 0, 1, 1, 1, 1, 1, 1, 1, 1, 1, 1, 1, 1],\n",
       " [0, 0, 1, 0, 0, 1, 1, 1, 1, 1, 1, 1, 1, 1, 1, 1, 1, 1, 1, 1, 1],\n",
       " [0, 0, 0, 0, 0, 0, 0, 0, 0, 0, 0, 0, 0, 0, 0, 0, 0, 0, 0, 0, 0],\n",
       " [0, 0, 0, 0, 0, 0, 0, 0, 0, 0, 0, 0, 0, 0, 0, 0, 0, 0, 0, 0, 0],\n",
       " [0, 0, 1, 0, 0, 1, 1, 1, 1, 1, 1, 1, 1, 1, 1, 1, 1, 1, 1, 1, 1],\n",
       " [0, 0, 0, 0, 0, 0, 0, 0, 0, 0, 1, 1, 0, 0, 0, 0, 1, 1, 0, 0, 0],\n",
       " [0, 0, 0, 0, 0, 0, 0, 0, 0, 0, 0, 0, 0, 0, 1, 1, 1, 1, 1, 1, 1],\n",
       " [0, 0, 0, 0, 0, 0, 0, 0, 0, 0, 0, 0, 0, 0, 0, 0, 0, 0, 0, 0, 0]]"
      ]
     },
     "execution_count": 47,
     "metadata": {},
     "output_type": "execute_result"
    }
   ],
   "source": [
    "for i in range(1, n + 1):\n",
    "    for b in range(capacity + 1):\n",
    "        item = items[i - 1]\n",
    "        prev_max = OPT[i - 1][b]\n",
    "        if item[1] <= b:\n",
    "            new_max = OPT[i - 1][b - item[1]] + item[2]\n",
    "            OPT[i][b] = max(prev_max, new_max)\n",
    "            if OPT[i][b] == new_max:\n",
    "                selected_items[i][b] = 1\n",
    "        else:\n",
    "            OPT[i][b] = prev_max\n",
    "\n",
    "max_value = OPT[n][capacity]\n",
    "\n",
    "selected_items"
   ]
  },
  {
   "cell_type": "markdown",
   "metadata": {},
   "source": [
    "Определим, какие именно предметы попали в рюкзак"
   ]
  },
  {
   "cell_type": "code",
   "execution_count": 48,
   "metadata": {},
   "outputs": [
    {
     "data": {
      "text/plain": [
       "['Item 2', 'Item 3', 'Item 4', 'Item 7', 'Item 9']"
      ]
     },
     "execution_count": 48,
     "metadata": {},
     "output_type": "execute_result"
    }
   ],
   "source": [
    "identified_items = []\n",
    "\n",
    "b = capacity\n",
    "\n",
    "for i in range(len(items), 0, -1):\n",
    "    if selected_items[i][b] == 1:\n",
    "        identified_items.append(items[i - 1][0])\n",
    "        b -= items[i - 1][1]\n",
    "        \n",
    "identified_items = identified_items[::-1]\n",
    "\n",
    "identified_items"
   ]
  },
  {
   "cell_type": "markdown",
   "metadata": {},
   "source": [
    "Итог"
   ]
  },
  {
   "cell_type": "code",
   "execution_count": 49,
   "metadata": {},
   "outputs": [
    {
     "name": "stdout",
     "output_type": "stream",
     "text": [
      "Max value: 55\n",
      "Selected items: ['Item 2', 'Item 3', 'Item 4', 'Item 7', 'Item 9']\n"
     ]
    }
   ],
   "source": [
    "print(f\"Max value: {max_value}\")\n",
    "print(f\"Selected items: {identified_items}\")"
   ]
  }
 ],
 "metadata": {
  "kernelspec": {
   "display_name": "lr_1",
   "language": "python",
   "name": "python3"
  },
  "language_info": {
   "codemirror_mode": {
    "name": "ipython",
    "version": 3
   },
   "file_extension": ".py",
   "mimetype": "text/x-python",
   "name": "python",
   "nbconvert_exporter": "python",
   "pygments_lexer": "ipython3",
   "version": "3.10.12"
  },
  "orig_nbformat": 4
 },
 "nbformat": 4,
 "nbformat_minor": 2
}

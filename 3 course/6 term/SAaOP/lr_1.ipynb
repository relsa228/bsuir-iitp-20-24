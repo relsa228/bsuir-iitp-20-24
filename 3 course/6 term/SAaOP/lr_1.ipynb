{
 "cells": [
  {
   "cell_type": "markdown",
   "metadata": {},
   "source": [
    "#### Лабораторная работа 1. Отсекающие ограничения. Метод Гомори\n",
    "Реализовать алгоритм Гомори для решения задачи целочисленного линейного программирования методом отсекающих ограничений.\n",
    "\n",
    "$----------------------------------------------$"
   ]
  },
  {
   "cell_type": "code",
   "execution_count": 179,
   "metadata": {},
   "outputs": [],
   "source": [
    "import numpy as np\n",
    "from scipy.optimize import linprog"
   ]
  },
  {
   "cell_type": "markdown",
   "metadata": {},
   "source": [
    "<b>Шаг 1.</b> В задаче целочисленного линейного программирования ($\\mathnormal{IP}$) отбрасываем условия целочисленности переменных и получим задачу линейного программирования ($\\mathnormal{LP}$)."
   ]
  },
  {
   "cell_type": "code",
   "execution_count": 180,
   "metadata": {},
   "outputs": [],
   "source": [
    "A = np.array([  [3, 2, 1, 0],\n",
    "                [-3, 2, 0, 1]   ])\n",
    "b = np.array([6, 0])\n",
    "c = np.array([0, 1, 0, 0])\n",
    "c = -c"
   ]
  },
  {
   "cell_type": "markdown",
   "metadata": {},
   "source": [
    "<b>Шаг 2.</b> Решаем задачу ($\\mathnormal{LP}$) симплекс-методом."
   ]
  },
  {
   "cell_type": "code",
   "execution_count": 181,
   "metadata": {},
   "outputs": [],
   "source": [
    "simplex_result = linprog(c, A_ub=A, b_ub=b, method='highs')"
   ]
  },
  {
   "cell_type": "markdown",
   "metadata": {},
   "source": [
    "<b>Шаг 3.</b> Если ($\\mathnormal{LP}$) несовместена или ее целевая функция неограничена сверху на множестве допустимых планов, то метод заканчивает работу. Иначе продолжаем."
   ]
  },
  {
   "cell_type": "code",
   "execution_count": 182,
   "metadata": {},
   "outputs": [
    {
     "name": "stdout",
     "output_type": "stream",
     "text": [
      "Задача несовместена или ее целевая функция неограничена сверху на множестве допустимых планов\n"
     ]
    }
   ],
   "source": [
    "if simplex_result.success:\n",
    "    print (\"Задача несовместена или ее целевая функция неограничена сверху на множестве допустимых планов\")"
   ]
  },
  {
   "cell_type": "markdown",
   "metadata": {},
   "source": [
    "<b>Шаг 4.</b> Пусть симплекс-метод на <b>Шаг 2</b> нашел оптимальный базисный допустимый план $\\overline{x}$ с множеством базисных индексов $\\mathnormal{B}$. Тогда, проверим следующее:\n",
    "\n",
    "$$\n",
    "\\overline{x} \\in \\mathbb{Z}^{n}\n",
    "$$"
   ]
  },
  {
   "cell_type": "code",
   "execution_count": 183,
   "metadata": {},
   "outputs": [],
   "source": [
    "is_over = all(np.isclose(x, np.round(x)) for x in simplex_result.x)"
   ]
  },
  {
   "cell_type": "markdown",
   "metadata": {},
   "source": [
    "Если условие верно, то $\\overline{x}$ — оптимальный план ($\\mathnormal{IP}$), метод заканчивает свою работу"
   ]
  },
  {
   "cell_type": "code",
   "execution_count": 184,
   "metadata": {},
   "outputs": [],
   "source": [
    "if is_over:\n",
    "    print(f\"Оптимальный план: {simplex_result.x}\")"
   ]
  },
  {
   "cell_type": "markdown",
   "metadata": {},
   "source": [
    "Иначе добавим отсекающее ограничение Гомори к задаче ($\\mathnormal{IP}$) и переходим на <b>Шаг 2</b>."
   ]
  },
  {
   "cell_type": "markdown",
   "metadata": {},
   "source": [
    "Найдем в $\\mathnormal{B}$ индекс $\\mathnormal{k}$ элемента из $\\overline{x}$ с самой большой дробной частью"
   ]
  },
  {
   "cell_type": "code",
   "execution_count": 185,
   "metadata": {},
   "outputs": [
    {
     "data": {
      "text/plain": [
       "1"
      ]
     },
     "execution_count": 185,
     "metadata": {},
     "output_type": "execute_result"
    }
   ],
   "source": [
    "B = [i for i in range(len(simplex_result.x)) if simplex_result.x[i] != 0]\n",
    "x_frac = simplex_result.x - np.floor(simplex_result.x)\n",
    "k = 0\n",
    "for i in B:\n",
    "    if x_frac[k] < x_frac[i]:\n",
    "        k = i\n",
    "k"
   ]
  },
  {
   "cell_type": "markdown",
   "metadata": {},
   "source": [
    "Соберем матрицы $\\mathnormal{A}_{B}$ и $\\mathnormal{A}_{N}$, где $\\mathnormal{A}_{B}$ состоит из столбцов матрицы $\\mathnormal{A}$, чьи индексы есть в $\\mathnormal{B}$, а $\\mathnormal{A}_{N}$ из всех остальных"
   ]
  },
  {
   "cell_type": "code",
   "execution_count": 186,
   "metadata": {},
   "outputs": [
    {
     "name": "stdout",
     "output_type": "stream",
     "text": [
      "A_B = [[ 3  2]\n",
      " [-3  2]], \n",
      "\n",
      "A_N = [[1 0]\n",
      " [0 1]]\n"
     ]
    }
   ],
   "source": [
    "A_B = A[:, B]\n",
    "A_N = A[:, [i for i in range(A.shape[1]) if i not in B]]\n",
    "\n",
    "print(f\"A_B = {A_B}, \\n\\nA_N = {A_N}\")"
   ]
  },
  {
   "cell_type": "markdown",
   "metadata": {},
   "source": [
    "Найдем матрицу ${\\mathnormal{A}_{B}}^{-1}$"
   ]
  },
  {
   "cell_type": "code",
   "execution_count": 187,
   "metadata": {},
   "outputs": [
    {
     "data": {
      "text/plain": [
       "array([[ 0.16666667, -0.16666667],\n",
       "       [ 0.25      ,  0.25      ]])"
      ]
     },
     "execution_count": 187,
     "metadata": {},
     "output_type": "execute_result"
    }
   ],
   "source": [
    "A_B_inv = np.linalg.inv(A_B) \n",
    "A_B_inv"
   ]
  },
  {
   "cell_type": "markdown",
   "metadata": {},
   "source": [
    "Для получения вектора $\\mathnormal{l}$ необходимо перемножить матрицы ${\\mathnormal{A}_{B}}^{-1}$ и $\\mathnormal{A}_{N}$, после чего взять $\\mathnormal{k}$-ю строку из результата "
   ]
  },
  {
   "cell_type": "code",
   "execution_count": 188,
   "metadata": {},
   "outputs": [
    {
     "data": {
      "text/plain": [
       "array([0.25, 0.25])"
      ]
     },
     "execution_count": 188,
     "metadata": {},
     "output_type": "execute_result"
    }
   ],
   "source": [
    "l = np.dot(A_B_inv, A_N)[k, :]\n",
    "l"
   ]
  },
  {
   "cell_type": "markdown",
   "metadata": {},
   "source": [
    "Данные коэффициенты будут использованы для получения отсекающего ограничения. Делается это в два простых шага:"
   ]
  },
  {
   "cell_type": "markdown",
   "metadata": {},
   "source": [
    "<b>Шаг 1.</b> Составим неравенство Гомори, вида\n",
    "$$\n",
    "\\{\\mathnormal{x}_{\\mathnormal{k}}\\} - \\sum_{i=1}^{n}l_{i} * {\\overline{x}'}_i \\leq 0\n",
    "$$\n",
    "где ${\\overline{x}'}$ множество всех небазисных элементов $\\overline{x}$, а n — их количество\n",
    "\n",
    "В нашем случае получим\n",
    "$$\n",
    "0.5 - \\frac{1}{4}x_{3} - \\frac{1}{4}x_{4} \\leq 0\n",
    "$$\n",
    "\n",
    "Перенесем известные значения в правую часть\n",
    "\n",
    "$$\n",
    "- \\frac{1}{4}x_{3} - \\frac{1}{4}x_{4} \\leq -0.5\n",
    "$$\n",
    "\n",
    "Добавим новую переменную для уравнивания левой и правой части неравенства\n",
    "\n",
    "$$\n",
    "- \\frac{1}{4}x_{3} - \\frac{1}{4}x_{4} + x_{5} = -0.5\n",
    "$$\n",
    "\n",
    "И домножим обе части на $-1$\n",
    "\n",
    "$$\n",
    "\\frac{1}{4}x_{3} + \\frac{1}{4}x_{4} - x_{5} = 0.5\n",
    "$$\n",
    "\n",
    "Итоговое ограничение\n",
    "\n",
    "$$\n",
    "\\frac{1}{4}x_{3} + \\frac{1}{4}x_{4} - x_{5} = 0.5\n",
    "$$"
   ]
  }
 ],
 "metadata": {
  "kernelspec": {
   "display_name": "lr_1",
   "language": "python",
   "name": "python3"
  },
  "language_info": {
   "codemirror_mode": {
    "name": "ipython",
    "version": 3
   },
   "file_extension": ".py",
   "mimetype": "text/x-python",
   "name": "python",
   "nbconvert_exporter": "python",
   "pygments_lexer": "ipython3",
   "version": "3.11.5"
  },
  "orig_nbformat": 4
 },
 "nbformat": 4,
 "nbformat_minor": 2
}

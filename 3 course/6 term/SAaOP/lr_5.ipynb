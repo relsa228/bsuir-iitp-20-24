{
 "cells": [
  {
   "cell_type": "markdown",
   "metadata": {},
   "source": [
    "#### Лабораторная работа 5. Задача коммивояжера\n",
    "Реализовать алгоритм динамического программирования (TSP) для решения коммивояжера\n",
    "\n",
    "$--------------------------------------------$"
   ]
  },
  {
   "cell_type": "markdown",
   "metadata": {},
   "source": [
    "Смысл <b>задачи коммивояжера</b> состоит в том, что коммивояжер, выезжая из города $n$, в определенной последовательности посещает остальные $1, 2, …, 1 - n$ городов и возвращается в пункт выезда $n$. При этом требуется определить такой маршрут, который дает наименьшую стоимость объезда городов при условии, что коммивояжер не заезжает ни в один из них более одного раза, что в терминологии графов означает найти <b>гамильтонов цикл</b> наименьшей длины."
   ]
  },
  {
   "cell_type": "markdown",
   "metadata": {},
   "source": [
    "Определим входные данные\n"
   ]
  },
  {
   "cell_type": "code",
   "execution_count": 5,
   "metadata": {},
   "outputs": [],
   "source": [
    "dist = [[0, 5, 6, 14, 15],\n",
    "        [5, 0, 7, 10, 6],\n",
    "        [6, 7, 0, 8, 7],\n",
    "        [14, 10, 8, 0, 9],\n",
    "        [15, 6, 7, 9, 0]]\n",
    "\n",
    "n = 5\n",
    "dp = [[None]*n for _ in range(1<<n)]\n",
    "next_node = [[0]*n for _ in range(1<<n)]"
   ]
  },
  {
   "cell_type": "markdown",
   "metadata": {},
   "source": [
    "Возьмем некоторую вершину 1 как точку начала и конца маршрута, все остальные вершины определим как множество S, такое что:\n",
    "\n",
    "$$\n",
    "S \\subseteq \\{2, 3, ..., n\\}, \\space S \\ne \\varnothing\n",
    "$$\n",
    "\n",
    "Теперь следует найти наиболее оптимальные маршруты, где начальная точка - точка 1, а конечная точка $k \\in S$. Тогда цена гамильтонова цикла для данного набора значений будет равна:\n",
    "\n",
    "$$\n",
    "OPT(S, k) = i(x, k) + d_{xk}, k \\in S\n",
    "$$\n",
    "\n",
    "где $x$ - начальная точка пути, $k$ - конечная точка пути, $i(x, k)$ - цена пути, а $d_{xk}$ - цена прохода по ребру между $x$ и $k$"
   ]
  },
  {
   "cell_type": "markdown",
   "metadata": {},
   "source": [
    "Итого получим рекуррентное соотношение:\n",
    "\n",
    "$$\n",
    "OPT(S, k) = \\min{OPT(S \\backslash \\{ k \\}, t) + d_{tk}}\n",
    "$$\n",
    "\n",
    "Решение которого даст нам цену прохождения наиболее оптимального гамильтонова цикла."
   ]
  },
  {
   "cell_type": "code",
   "execution_count": 6,
   "metadata": {},
   "outputs": [
    {
     "name": "stdout",
     "output_type": "stream",
     "text": [
      "Min Hamiltonian Cycle cost: 34\n"
     ]
    }
   ],
   "source": [
    "def tsp(mask, pos):\n",
    "    if mask == (1<<n) - 1:\n",
    "        return dist[pos][0]\n",
    "    if dp[mask][pos] is not None:\n",
    "        return dp[mask][pos]\n",
    "    ans = float('inf')\n",
    "    for nxt in range(n):\n",
    "        if mask>>nxt & 1:\n",
    "            continue\n",
    "        cur = dist[pos][nxt] + tsp(mask|(1<<nxt), nxt)\n",
    "        if cur < ans:\n",
    "            ans = cur\n",
    "            next_node[mask][pos] = nxt\n",
    "    dp[mask][pos] = ans\n",
    "    return ans\n",
    "\n",
    "print(f\"Min Hamiltonian Cycle cost: {tsp(1, 0)}\")"
   ]
  },
  {
   "cell_type": "markdown",
   "metadata": {},
   "source": [
    "Используя имеющийся список $next \\_ node$ и битовую маску восстановим порядок посещения городов"
   ]
  },
  {
   "cell_type": "code",
   "execution_count": 7,
   "metadata": {},
   "outputs": [],
   "source": [
    "mask = 1\n",
    "pos = 0\n",
    "path = []\n",
    "for _ in range(n):\n",
    "    path.append(pos)\n",
    "    pos = next_node[mask][pos]\n",
    "    mask |= 1<<pos\n",
    "path.append(0)"
   ]
  },
  {
   "cell_type": "markdown",
   "metadata": {},
   "source": [
    "Выведем окончательный маршрут"
   ]
  },
  {
   "cell_type": "code",
   "execution_count": 8,
   "metadata": {},
   "outputs": [
    {
     "name": "stdout",
     "output_type": "stream",
     "text": [
      "[0, 1, 4, 3, 2, 0]\n"
     ]
    }
   ],
   "source": [
    "print(path)"
   ]
  }
 ],
 "metadata": {
  "kernelspec": {
   "display_name": "lab_engine",
   "language": "python",
   "name": "python3"
  },
  "language_info": {
   "codemirror_mode": {
    "name": "ipython",
    "version": 3
   },
   "file_extension": ".py",
   "mimetype": "text/x-python",
   "name": "python",
   "nbconvert_exporter": "python",
   "pygments_lexer": "ipython3",
   "version": "3.10.12"
  }
 },
 "nbformat": 4,
 "nbformat_minor": 2
}

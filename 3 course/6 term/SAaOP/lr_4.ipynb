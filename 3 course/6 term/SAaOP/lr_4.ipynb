{
 "cells": [
  {
   "cell_type": "markdown",
   "metadata": {},
   "source": [
    "#### Лабораторная работа 4. Задача о наидлиннейшем пути из заданной вершины в заданную вершину в направленном графе без контуров\n",
    "Реализовать алгоритм динамического программирования для решения задачи о нахождении наидлиннейшего пути из заданной вершины в заданную вершину в направленном графе без контуров\n",
    "\n",
    "$--------------------------------------------$"
   ]
  },
  {
   "cell_type": "code",
   "execution_count": 61,
   "metadata": {},
   "outputs": [],
   "source": [
    "from collections import defaultdict"
   ]
  },
  {
   "cell_type": "markdown",
   "metadata": {},
   "source": [
    "Шаг 0. Определим входные данные\n"
   ]
  },
  {
   "cell_type": "code",
   "execution_count": 62,
   "metadata": {},
   "outputs": [
    {
     "name": "stdout",
     "output_type": "stream",
     "text": [
      "The graph that was created: {'s': [('a', 1), ('b', 5)], 'a': [('t', 2), ('b', 3)], 'b': [('t', 4)]}\n",
      "Necessary path: s -> t\n"
     ]
    }
   ],
   "source": [
    "raw_graph = [(\"s\", \"a\", 1), \n",
    "             (\"a\", \"t\", 2), \n",
    "             (\"a\", \"b\", 3), \n",
    "             (\"s\", \"b\", 5), \n",
    "             (\"b\", \"t\", 4)]\n",
    "\n",
    "start_vertex = \"s\"\n",
    "end_vertex = \"t\"\n",
    "\n",
    "graph = defaultdict(list)\n",
    "for u, v, weight in raw_graph:\n",
    "    graph[u].append((v, weight))\n",
    "graph = dict(graph)\n",
    "\n",
    "print(f'The graph that was created: {graph}')\n",
    "print(f'Necessary path: {start_vertex} -> {end_vertex}')"
   ]
  },
  {
   "cell_type": "markdown",
   "metadata": {},
   "source": [
    "Кроме этого определим функцию поиска в глубину"
   ]
  },
  {
   "cell_type": "code",
   "execution_count": 63,
   "metadata": {},
   "outputs": [],
   "source": [
    "def depth_search(node):\n",
    "    visited.add(node)\n",
    "    if node in graph:\n",
    "        for neighbor in graph[node]:\n",
    "            if neighbor[0] not in visited:\n",
    "                depth_search(neighbor[0])\n",
    "        stack.append(node)\n",
    "    else:\n",
    "        stack.append(node)"
   ]
  },
  {
   "cell_type": "markdown",
   "metadata": {},
   "source": [
    "Шаг 1. Необходимо топологически упорядочить вершины входного графа (расположить вершины графа последовательно друг за другом таким образом, чтобы все дуги графа располагались слева направо)"
   ]
  },
  {
   "cell_type": "code",
   "execution_count": 64,
   "metadata": {},
   "outputs": [
    {
     "name": "stdout",
     "output_type": "stream",
     "text": [
      "Topological order: ['s', 'a', 'b', 't']\n"
     ]
    }
   ],
   "source": [
    "visited = set()\n",
    "stack = []\n",
    "for node in graph:\n",
    "    if node not in visited:\n",
    "        depth_search(node)\n",
    "        \n",
    "topological_order = stack[::-1]\n",
    "\n",
    "\n",
    "print(f'Topological order: {topological_order}')"
   ]
  },
  {
   "cell_type": "markdown",
   "metadata": {},
   "source": [
    "Проверим достижимость конечной вершины из начальной"
   ]
  },
  {
   "cell_type": "code",
   "execution_count": 65,
   "metadata": {},
   "outputs": [
    {
     "name": "stdout",
     "output_type": "stream",
     "text": [
      "Vertex T is reachable from vertex S\n"
     ]
    }
   ],
   "source": [
    "if topological_order.index(start_vertex) > topological_order.index(end_vertex):\n",
    "    print(\"Vertex T is unreachable from vertex S\")\n",
    "else:\n",
    "    print(\"Vertex T is reachable from vertex S\")"
   ]
  },
  {
   "cell_type": "markdown",
   "metadata": {},
   "source": [
    "Топологическая упорядоченность позволяет исключить из рассмотрения вершины до $s$ и после $t$. Примем, что позиция $s$ в графе − $k$, а позиция $t$ − $l$"
   ]
  },
  {
   "cell_type": "code",
   "execution_count": 66,
   "metadata": {},
   "outputs": [],
   "source": [
    "OPT = {node: float('-inf') for node in topological_order}\n",
    "OPT[start_vertex] = 0"
   ]
  },
  {
   "cell_type": "markdown",
   "metadata": {},
   "source": [
    "Шаг 2. Для каждой вершины $v_{i}, i \\in \\{1, 2, . . . , k\\}$, найдем максимальную длину $(v_{k}, v_{i})$-пути, которую обозначим через $OPT(v_{i})$."
   ]
  },
  {
   "cell_type": "code",
   "execution_count": 67,
   "metadata": {},
   "outputs": [],
   "source": [
    "predecessors = {}\n",
    "\n",
    "for node in topological_order:\n",
    "    if OPT[node] != float('-inf') and node in graph:\n",
    "        for neighbor, weight in graph[node]:\n",
    "            if OPT[node] + weight > OPT[neighbor]:\n",
    "                OPT[neighbor] = OPT[node] + weight\n",
    "                predecessors[neighbor] = node"
   ]
  },
  {
   "cell_type": "markdown",
   "metadata": {},
   "source": [
    "Шаг 3. Построим путь"
   ]
  },
  {
   "cell_type": "code",
   "execution_count": 68,
   "metadata": {},
   "outputs": [],
   "source": [
    "path = f'{end_vertex}'\n",
    "current_node = end_vertex\n",
    "while current_node != start_vertex:\n",
    "    current_node = predecessors[current_node]\n",
    "    path = f\"{current_node} - {path}\""
   ]
  },
  {
   "cell_type": "markdown",
   "metadata": {},
   "source": [
    "Подведем итог"
   ]
  },
  {
   "cell_type": "code",
   "execution_count": 69,
   "metadata": {},
   "outputs": [
    {
     "name": "stdout",
     "output_type": "stream",
     "text": [
      "The furthest way: s - b - t\n",
      "Path length: 9\n"
     ]
    }
   ],
   "source": [
    "longest_path, length = path, OPT[end_vertex]\n",
    "\n",
    "print(f'The furthest way: {longest_path}\\nPath length: {length}')"
   ]
  }
 ],
 "metadata": {
  "kernelspec": {
   "display_name": "lab_engine",
   "language": "python",
   "name": "python3"
  },
  "language_info": {
   "codemirror_mode": {
    "name": "ipython",
    "version": 3
   },
   "file_extension": ".py",
   "mimetype": "text/x-python",
   "name": "python",
   "nbconvert_exporter": "python",
   "pygments_lexer": "ipython3",
   "version": "3.10.12"
  }
 },
 "nbformat": 4,
 "nbformat_minor": 2
}

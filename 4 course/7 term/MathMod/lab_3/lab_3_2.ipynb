{
 "cells": [
  {
   "cell_type": "code",
   "execution_count": 1,
   "metadata": {},
   "outputs": [],
   "source": [
    "import math\n",
    "import random\n",
    "import numpy as np\n",
    "import scipy.stats as st\n",
    "import scipy.integrate as intgr\n",
    "import matplotlib.pyplot as plt\n",
    "\n",
    "rounds = 100000"
   ]
  },
  {
   "cell_type": "markdown",
   "metadata": {},
   "source": [
    "<b>Задание 2.</b> Написать программу, реализующую метод формирования двумерной ДСВ. Матрицу распределения ДСВ задаете самостоятельно. Выполнить статистическое исследование."
   ]
  },
  {
   "cell_type": "markdown",
   "metadata": {},
   "source": [
    "Матрица распределения ДСВ и векторы возможных значений компонент X и Y\n"
   ]
  },
  {
   "cell_type": "code",
   "execution_count": 2,
   "metadata": {},
   "outputs": [
    {
     "name": "stdout",
     "output_type": "stream",
     "text": [
      "1.0000000000000002\n",
      "Матрица подходит для работы\n"
     ]
    }
   ],
   "source": [
    "P = [\n",
    "    [0.2, 0.1, 0.035, 0.005],\n",
    "    [0.025, 0.1,  0.015, 0.145],\n",
    "    [0.025, 0.05, 0.2, 0.1]\n",
    "]\n",
    "\n",
    "# Устанавливаем проверку на свойство матрицы №1 \n",
    "# если сумма != 1, то матрица неверная \n",
    "print(np.sum(P))\n",
    "if round(np.sum(P), 3) != 1.000: \n",
    "    print(\"Матрица не подходит для работы\")\n",
    "else: print(\"Матрица подходит для работы\")\n"
   ]
  },
  {
   "cell_type": "code",
   "execution_count": 3,
   "metadata": {},
   "outputs": [
    {
     "name": "stdout",
     "output_type": "stream",
     "text": [
      "[1, 2, 3] [4, 5, 6, 7]\n",
      "[[1, 2, 3], [4, 5, 6, 7]]\n",
      "p_x [0.3400000000000001, 0.28500000000000003, 0.375] \n",
      "p_y [0.3400000000000001, 0.3400000000000001, 0.3400000000000001]\n"
     ]
    }
   ],
   "source": [
    "#Задаём Х и Y\n",
    "valuesX = [i for i in range(1, len(P) + 1)]\n",
    "valuesY = [i + valuesX[-1] for i in range(1, len(P[0]) + 1)]\n",
    "print(valuesX, valuesY)\n",
    "n = len(valuesX)\n",
    "m = len(valuesY)\n",
    "valuesXY = []\n",
    "valuesXY.append(valuesX)\n",
    "valuesXY.append(valuesY)\n",
    "print(valuesXY)\n",
    "# Переход к ряду распределения вероятностей составляющей X \n",
    "#(второй пункт из свойств матрицы распределения вероятностей):\n",
    "p_x = [np.sum(P[i]) for i in range(len(P))]\n",
    "# Переход к ряду распределения вероятностей составляющей Y \n",
    "#(третий пункт из свойств матрицы распределения вероятностей):\n",
    "p_y = [np.sum(P[:][0]) for i in range(1, len(P[0]))]\n",
    "print(\"p_x\", p_x, \"\\np_y\", p_y)"
   ]
  },
  {
   "cell_type": "markdown",
   "metadata": {},
   "source": [
    "Проверим составляющие двумерной ДСВ на независимость"
   ]
  },
  {
   "cell_type": "code",
   "execution_count": 4,
   "metadata": {},
   "outputs": [
    {
     "name": "stdout",
     "output_type": "stream",
     "text": [
      "X,Y зависимы\n",
      "P[0][0] != p_x[0]*p_y[0]\n"
     ]
    }
   ],
   "source": [
    "def independence_test(P, n, m):  \n",
    "    for i in range(n):\n",
    "        for j in range(m):\n",
    "            if P[i][j] != p_x[i]*p_y[j]:\n",
    "                print('X,Y зависимы')\n",
    "                print(f'P[{i}][{j}] != p_x[{i}]*p_y[{j}]')\n",
    "                return\n",
    "    print('X,Y независимы')\n",
    "    \n",
    "independence_test(P, n,m)"
   ]
  },
  {
   "cell_type": "markdown",
   "metadata": {},
   "source": [
    "Находем условные плотности распределения"
   ]
  },
  {
   "cell_type": "code",
   "execution_count": 5,
   "metadata": {},
   "outputs": [
    {
     "name": "stdout",
     "output_type": "stream",
     "text": [
      "P(X|Y)\n",
      " [[0.58823529 0.29411765 0.10294118 0.01470588]\n",
      " [0.07352941 0.29411765 0.04411765 0.42647059]\n",
      " [0.07352941 0.14705882 0.58823529 0.29411765]]\n",
      "P(Y|X)\n",
      " [[0.58823529 0.29411765 0.10294118 0.01470588]\n",
      " [0.0877193  0.35087719 0.05263158 0.50877193]\n",
      " [0.06666667 0.13333333 0.53333333 0.26666667]]\n"
     ]
    }
   ],
   "source": [
    "p_xy = np.copy(P)\n",
    "\n",
    "for i in range(n):\n",
    "    for j in range(m):\n",
    "        p_xy[i][j] /= p_y[i]  \n",
    "        \n",
    "print(\"P(X|Y)\\n\",p_xy)\n",
    "\n",
    "p_yx = np.copy(P)\n",
    "for i in range(n):\n",
    "    for j in range(m):\n",
    "        p_yx[i][j] /= p_x[i]\n",
    "\n",
    "print(\"P(Y|X)\\n\",p_yx)"
   ]
  },
  {
   "cell_type": "markdown",
   "metadata": {},
   "source": [
    "Функция безусловного распределения X:"
   ]
  },
  {
   "cell_type": "code",
   "execution_count": 6,
   "metadata": {},
   "outputs": [
    {
     "name": "stdout",
     "output_type": "stream",
     "text": [
      "F_x =  [0.3400000000000001, 0.6250000000000001, 1.0]\n"
     ]
    }
   ],
   "source": [
    "def F_x(n, m, DSV_matrix, p_x):\n",
    "    F, summ = [], 0\n",
    "    for i in range(n):\n",
    "        summ += p_x[i]\n",
    "        F.append(summ)\n",
    "    return F\n",
    "\n",
    "F_x = F_x(n, m, P, p_x)\n",
    "print('F_x = ', F_x)"
   ]
  },
  {
   "cell_type": "markdown",
   "metadata": {},
   "source": [
    "Функции безусловного распределения Y:"
   ]
  },
  {
   "cell_type": "code",
   "execution_count": 7,
   "metadata": {},
   "outputs": [
    {
     "data": {
      "text/plain": [
       "[[0.588235294117647, 0.8823529411764706, 0.9852941176470588, 1.0],\n",
       " [0.08771929824561403, 0.43859649122807015, 0.49122807017543857, 1.0],\n",
       " [0.06666666666666667, 0.20000000000000004, 0.7333333333333334, 1.0]]"
      ]
     },
     "execution_count": 7,
     "metadata": {},
     "output_type": "execute_result"
    }
   ],
   "source": [
    "def F_yx(n, m, DSV_matrix, p_x):\n",
    "    F_yx = [[0] * m for i in range(n)]\n",
    "    for i in range(n):\n",
    "        summ = 0\n",
    "        for j in range(m):\n",
    "            summ += DSV_matrix[i][j]\n",
    "            F_yx[i][j] = summ / p_x[i]\n",
    "    return F_yx\n",
    "\n",
    "F_yx = F_yx(n, m, P, p_x)\n",
    "F_yx"
   ]
  },
  {
   "cell_type": "markdown",
   "metadata": {},
   "source": [
    "Получим данные для исследования X"
   ]
  },
  {
   "cell_type": "code",
   "execution_count": 8,
   "metadata": {},
   "outputs": [],
   "source": [
    "def generate_X(n, F_x, N):\n",
    "    f_x_bounds = [0] * (n+1)\n",
    "    for i in range (n):\n",
    "        f_x_bounds[i+1] = F_x[i]\n",
    "\n",
    "    x_list = []\n",
    "    for i in range(N):\n",
    "        x_val = random.random()\n",
    "        for k in range(n):\n",
    "            if x_val > f_x_bounds[k] and x_val <= f_x_bounds[k+1]:\n",
    "                x_list.append(k)\n",
    "    return x_list"
   ]
  },
  {
   "cell_type": "code",
   "execution_count": 9,
   "metadata": {},
   "outputs": [],
   "source": [
    "x_list = generate_X(n, F_x, rounds)"
   ]
  },
  {
   "cell_type": "markdown",
   "metadata": {},
   "source": [
    "Получим данные для исследования Y:"
   ]
  },
  {
   "cell_type": "code",
   "execution_count": 10,
   "metadata": {},
   "outputs": [],
   "source": [
    "def generate_Y(m, F_yx, x_list):\n",
    "    y_list = []\n",
    "    for x_i in x_list:\n",
    "        f_yx_bounds = [0] * (m+1)\n",
    "        for i in range(m):\n",
    "            f_yx_bounds[i+1] = F_yx[x_i][i]\n",
    "            \n",
    "        y_val = random.random()\n",
    "        for s in range(m):\n",
    "            if y_val > f_yx_bounds[s] and y_val <= f_yx_bounds[s+1]:\n",
    "                y_list.append(s)\n",
    "    return y_list"
   ]
  },
  {
   "cell_type": "code",
   "execution_count": 11,
   "metadata": {},
   "outputs": [],
   "source": [
    "y_list = generate_Y(m, F_yx, x_list)"
   ]
  },
  {
   "cell_type": "markdown",
   "metadata": {},
   "source": [
    "Построеним гистограммы распределения "
   ]
  },
  {
   "cell_type": "code",
   "execution_count": 12,
   "metadata": {},
   "outputs": [
    {
     "name": "stdout",
     "output_type": "stream",
     "text": [
      "Одномерный ряд P(x):  [0.3400000000000001, 0.28500000000000003, 0.375]\n",
      "Одномерный ряд P(y):  [0.3400000000000001, 0.3400000000000001, 0.3400000000000001]\n"
     ]
    },
    {
     "data": {
      "image/png": "[encoded data removed]",
      "text/plain": [
       "<Figure size 2000x600 with 2 Axes>"
      ]
     },
     "metadata": {},
     "output_type": "display_data"
    }
   ],
   "source": [
    "fig, ax = plt.subplots(1,2)\n",
    "fig.set_figwidth(20)   \n",
    "fig.set_figheight(6) \n",
    "\n",
    "ax[0].hist(x_list, bins=10)\n",
    "ax[0].set_title('График X', {'fontsize': 20})\n",
    "ax[0].set_ylabel('Средняя плотность', {'fontsize': 16})\n",
    "ax[0].set_xlabel('Значения случайной величины X', {'fontsize': 16})\n",
    "\n",
    "ax[1].hist(y_list, bins=10)\n",
    "ax[1].set_title('График Y', {'fontsize': 20})\n",
    "ax[1].set_ylabel('Средняя плотность', {'fontsize': 16})\n",
    "ax[1].set_xlabel('Значения случайной величины Y', {'fontsize': 16})\n",
    "\n",
    "print(\"Одномерный ряд P(x): \", p_x)\n",
    "print(\"Одномерный ряд P(y): \", p_y)"
   ]
  },
  {
   "cell_type": "markdown",
   "metadata": {},
   "source": [
    "Теоретические характеристики\n"
   ]
  },
  {
   "cell_type": "code",
   "execution_count": 13,
   "metadata": {},
   "outputs": [],
   "source": [
    "def M(X, p_x):\n",
    "    m_x = 0\n",
    "    for i in range(len(p_x)):\n",
    "        m_x += p_x[i] * X[i]\n",
    "    return m_x\n",
    "\n",
    "def D(X, p_x, m_x):\n",
    "    d_sum = 0\n",
    "    for i in range(len(p_x)):\n",
    "        d_sum += p_x[i]*(X[i]**2)\n",
    "    return d_sum - (m_x**2)\n",
    "\n",
    "def R(X, Y, m_x, m_y, matrix, n, m):\n",
    "    m_xy = 0\n",
    "    for i in range(n):\n",
    "        for j in range(m):\n",
    "            m_xy += X[i]*Y[j]*matrix[i][j]\n",
    "    return m_xy - (m_x * m_y)"
   ]
  },
  {
   "cell_type": "code",
   "execution_count": 14,
   "metadata": {},
   "outputs": [
    {
     "name": "stdout",
     "output_type": "stream",
     "text": [
      "Математическое ожидание M[x]: 1.0350000000000001\n",
      "Математическое ожидание M[y]: 1.3600000000000003\n",
      "Дисперсия D[x]: 0.7137749999999998\n",
      "Дисперсия D[y]: 1.5503999999999996\n",
      "Коэффициент корреляции R[xy]: 0.6914658729305795\n"
     ]
    }
   ],
   "source": [
    "M_x = M(x_list, p_x)\n",
    "M_y = M(y_list, p_y)\n",
    "D_x = D(x_list, p_x, M_x)\n",
    "D_y = D(y_list, p_y, M_y)\n",
    "R_xy = R(x_list, y_list, M_x, M_y, P, n, m) \n",
    "R_xy /=  (math.sqrt(D_x) * math.sqrt(D_y)) \n",
    "print(\"Математическое ожидание M[x]:\", float(M_x))\n",
    "print(\"Математическое ожидание M[y]:\", float(M_y))\n",
    "print(\"Дисперсия D[x]:\", float(D_x))\n",
    "print(\"Дисперсия D[y]:\", float(D_y))\n",
    "print(\"Коэффициент корреляции R[xy]:\", float(R_xy))"
   ]
  },
  {
   "cell_type": "markdown",
   "metadata": {},
   "source": [
    "Фактические характеристики состовляющих"
   ]
  },
  {
   "cell_type": "code",
   "execution_count": 15,
   "metadata": {},
   "outputs": [
    {
     "name": "stdout",
     "output_type": "stream",
     "text": [
      "\n",
      "Математическое ожидание M[x]: 1.03707\n",
      "Математическое ожидание M[y]: 1.49942\n",
      "\n",
      "Дисперсия D[x]: 0.7148429635295896\n",
      "Дисперсия D[y]: 1.2518321819233122\n",
      "\n",
      "Коэффициент корреляции R[xy]: 0.541825245350029\n"
     ]
    }
   ],
   "source": [
    "def M_point(x_val, N):\n",
    "    summ = 0\n",
    "    for i in range(N):\n",
    "        summ += x_val[i]\n",
    "    return summ / N\n",
    "\n",
    "def D_point(x_val, m_x, N): \n",
    "    summ = 0\n",
    "    for i in range(N):\n",
    "        summ += (x_val[i] - m_x)**2\n",
    "    return summ / (N - 1)\n",
    "\n",
    "def K_point(x_val, y_val, m_x, m_y, N):\n",
    "    summ = 0\n",
    "    for i in range(N):\n",
    "        summ += (x_val[i] - m_x)*(y_val[i] - m_y)\n",
    "    return summ / (N - 1)\n",
    "\n",
    "m_x_point, m_y_point = M_point(x_list, rounds), M_point(y_list, rounds)\n",
    "print(\"\\nМатематическое ожидание M[x]:\", m_x_point)\n",
    "print(\"Математическое ожидание M[y]:\", m_y_point)\n",
    "\n",
    "d_x_point, d_y_point = D_point(x_list, m_x_point, rounds), D_point(y_list, m_y_point, rounds)\n",
    "print(\"\\nДисперсия D[x]:\", d_x_point)\n",
    "print(\"Дисперсия D[y]:\", d_y_point)\n",
    "\n",
    "r_xy_point = st.pearsonr(x_list, y_list)[0]\n",
    "print(\"\\nКоэффициент корреляции R[xy]:\", r_xy_point)"
   ]
  },
  {
   "cell_type": "markdown",
   "metadata": {},
   "source": [
    "Обратим внимание на коэффициент корреляции"
   ]
  },
  {
   "cell_type": "code",
   "execution_count": 16,
   "metadata": {},
   "outputs": [
    {
     "name": "stdout",
     "output_type": "stream",
     "text": [
      "Коэффициент корреляции теоретический: 0.6914658729305795\n",
      "Коэффициент корреляции практический: 0.541825245350029\n"
     ]
    }
   ],
   "source": [
    "print(\"Коэффициент корреляции теоретический:\", float(R_xy))\n",
    "print(\"Коэффициент корреляции практический:\", float(r_xy_point))"
   ]
  },
  {
   "cell_type": "markdown",
   "metadata": {},
   "source": [
    "Так как коэффициент корреляции не равен нулю => X и Y являются зависимыми."
   ]
  }
 ],
 "metadata": {
  "kernelspec": {
   "display_name": "lab_3",
   "language": "python",
   "name": "python3"
  },
  "language_info": {
   "codemirror_mode": {
    "name": "ipython",
    "version": 3
   },
   "file_extension": ".py",
   "mimetype": "text/x-python",
   "name": "python",
   "nbconvert_exporter": "python",
   "pygments_lexer": "ipython3",
   "version": "3.10.12"
  }
 },
 "nbformat": 4,
 "nbformat_minor": 2
}

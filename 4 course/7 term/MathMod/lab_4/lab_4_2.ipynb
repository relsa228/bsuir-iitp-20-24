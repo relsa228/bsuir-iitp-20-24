{
 "cells": [
  {
   "cell_type": "markdown",
   "metadata": {},
   "source": [
    "#### Лабораторная работа 4. Моделирование СМО. Практические исследования\n",
    "\n",
    "Автозаправочная станция (АЗС) имеет две колонки (п = 2); площадка возле нее допускает одновременное ожидание не более четырех автомобилей (L = 4). Поток автомобилей, прибывающих на станцию, простейший с интенсивностью X = 1 авт/мин. Время обслуживания автомобиля — показательное со средним значением to6c = 2 мин. Найти финальные вероятности состояний АЗС и ее характеристики: A, Q, POTK, A, среднее число заявки в очереди, среднее время пребывания заявки в системе.\n",
    "\n",
    "$--------------------------------------------$"
   ]
  },
  {
   "cell_type": "markdown",
   "metadata": {},
   "source": [
    "Моделирование системы и проверка теоретических данных на практике"
   ]
  },
  {
   "cell_type": "code",
   "execution_count": 147,
   "metadata": {},
   "outputs": [],
   "source": [
    "import numpy as np"
   ]
  },
  {
   "cell_type": "markdown",
   "metadata": {},
   "source": [
    "<b>1. Инициализация переменных.</b> Объявим переменные, полученные из условия задачи"
   ]
  },
  {
   "cell_type": "code",
   "execution_count": 148,
   "metadata": {},
   "outputs": [],
   "source": [
    "X = 1  # интенсивность входного потока\n",
    "t_obs = 2 # среднее время обслуживания\n",
    "\n",
    "# количество экспериментов\n",
    "n_experiments = 100000\n",
    "\n",
    "# начальное состояние системы\n",
    "state = 0\n",
    "\n",
    "# счетчики для статистических характеристик\n",
    "states_counter = [0]*7\n",
    "rejected = 0"
   ]
  },
  {
   "cell_type": "markdown",
   "metadata": {},
   "source": [
    "<b>2. Моделирование.</b>"
   ]
  },
  {
   "cell_type": "code",
   "execution_count": 149,
   "metadata": {},
   "outputs": [],
   "source": [
    "np.random.seed(42)\n",
    "for _ in range(n_experiments):\n",
    "    # генерация времени до следующего события (прихода заявки или окончания обслуживания)\n",
    "    time_to_next_event = np.random.exponential(1/(X if state == 0 else X/t_obs))\n",
    "    \n",
    "    # обновление счетчиков\n",
    "    states_counter[state] += time_to_next_event\n",
    "    \n",
    "    # переход в новое состояние\n",
    "    if state == 0 or np.random.rand() < t_obs - time_to_next_event:\n",
    "        # приход новой заявки\n",
    "        if state < 6:\n",
    "            state += 1\n",
    "        else:\n",
    "            rejected += 1\n",
    "    else:\n",
    "        # окончание обслуживания\n",
    "        state -= 1"
   ]
  },
  {
   "cell_type": "code",
   "execution_count": 150,
   "metadata": {},
   "outputs": [
    {
     "name": "stdout",
     "output_type": "stream",
     "text": [
      "p0 = 0.031078651904915867,\n",
      "p1 = 0.12676955721844405,\n",
      "p2 = 0.14103744732321716,\n",
      "p3 = 0.15182196108331036,\n",
      "p4 = 0.16894068915716048,\n",
      "p5 = 0.1836504268112315,\n",
      "p6 = 0.19670126650172054\n"
     ]
    },
    {
     "data": {
      "text/plain": [
       "1.0"
      ]
     },
     "execution_count": 150,
     "metadata": {},
     "output_type": "execute_result"
    }
   ],
   "source": [
    "p_stat = [t/sum(states_counter) for t in states_counter]\n",
    "\n",
    "print(f'p0 = {p_stat[0]},\\np1 = {p_stat[1]},\\np2 = {p_stat[2]},\\np3 = {p_stat[3]},\\np4 = {p_stat[4]},\\np5 = {p_stat[5]},\\np6 = {p_stat[6]}')\n",
    "\n",
    "check = p_stat[0] + p_stat[1] + p_stat[2] + p_stat[3] + p_stat[4] + p_stat[5] + p_stat[6]\n",
    "check"
   ]
  },
  {
   "cell_type": "markdown",
   "metadata": {},
   "source": [
    "<b>3. Расчет статистических характеристик.</b>"
   ]
  },
  {
   "cell_type": "code",
   "execution_count": 151,
   "metadata": {},
   "outputs": [],
   "source": [
    "A_stat = X * (1 - p_stat[-1])\n",
    "Q_stat = A_stat / X\n",
    "P_otk_stat = p_stat[-1]\n",
    "k_stat = sum([i * p_stat[i] for i in range(7)])\n",
    "L_queue_stat = k_stat - A_stat\n",
    "w_stat = k_stat / X"
   ]
  },
  {
   "cell_type": "markdown",
   "metadata": {},
   "source": [
    "<b>Абсолютная пропускная способность системы.</b> То есть среднее количество заявок, обслуживаемых системой в единицу времени."
   ]
  },
  {
   "cell_type": "code",
   "execution_count": 152,
   "metadata": {},
   "outputs": [
    {
     "data": {
      "text/plain": [
       "0.8032987334982795"
      ]
     },
     "execution_count": 152,
     "metadata": {},
     "output_type": "execute_result"
    }
   ],
   "source": [
    "A_stat"
   ]
  },
  {
   "cell_type": "markdown",
   "metadata": {},
   "source": [
    "<b>Относительная пропускная способность системы.</b> То есть доля заявок, которые система способна обработать."
   ]
  },
  {
   "cell_type": "code",
   "execution_count": 153,
   "metadata": {},
   "outputs": [
    {
     "data": {
      "text/plain": [
       "0.8032987334982795"
      ]
     },
     "execution_count": 153,
     "metadata": {},
     "output_type": "execute_result"
    }
   ],
   "source": [
    "Q_stat"
   ]
  },
  {
   "cell_type": "markdown",
   "metadata": {},
   "source": [
    "<b>Вероятность отказа.</b> То есть вероятность того, что поступающая заявка будет отклонена, потому что в системе нет места для ее обработки."
   ]
  },
  {
   "cell_type": "code",
   "execution_count": 154,
   "metadata": {},
   "outputs": [
    {
     "data": {
      "text/plain": [
       "0.19670126650172054"
      ]
     },
     "execution_count": 154,
     "metadata": {},
     "output_type": "execute_result"
    }
   ],
   "source": [
    "P_otk_stat"
   ]
  },
  {
   "cell_type": "markdown",
   "metadata": {},
   "source": [
    "<b>Среднее число заявок в системе.</b> То есть среднее общее количество заявок, находящихся в системе (включая заявки, которые обслуживаются, и заявки, которые ожидают в очереди)."
   ]
  },
  {
   "cell_type": "code",
   "execution_count": 155,
   "metadata": {},
   "outputs": [
    {
     "data": {
      "text/plain": [
       "3.6385328248099325"
      ]
     },
     "execution_count": 155,
     "metadata": {},
     "output_type": "execute_result"
    }
   ],
   "source": [
    "k_stat"
   ]
  },
  {
   "cell_type": "markdown",
   "metadata": {},
   "source": [
    "<b>Среднее число заявок в очереди.</b> То есть среднее количество заявок, ожидающих обработки."
   ]
  },
  {
   "cell_type": "code",
   "execution_count": 156,
   "metadata": {},
   "outputs": [
    {
     "data": {
      "text/plain": [
       "2.835234091311653"
      ]
     },
     "execution_count": 156,
     "metadata": {},
     "output_type": "execute_result"
    }
   ],
   "source": [
    "L_queue_stat"
   ]
  },
  {
   "cell_type": "markdown",
   "metadata": {},
   "source": [
    "<b>Среднее время пребывания заявки в системе.</b> В это значение включено время ожидания в очереди и время обслуживания."
   ]
  },
  {
   "cell_type": "code",
   "execution_count": 157,
   "metadata": {},
   "outputs": [
    {
     "data": {
      "text/plain": [
       "3.6385328248099325"
      ]
     },
     "execution_count": 157,
     "metadata": {},
     "output_type": "execute_result"
    }
   ],
   "source": [
    "w_stat"
   ]
  }
 ],
 "metadata": {
  "kernelspec": {
   "display_name": "lab_4",
   "language": "python",
   "name": "python3"
  },
  "language_info": {
   "codemirror_mode": {
    "name": "ipython",
    "version": 3
   },
   "file_extension": ".py",
   "mimetype": "text/x-python",
   "name": "python",
   "nbconvert_exporter": "python",
   "pygments_lexer": "ipython3",
   "version": "3.11.5"
  }
 },
 "nbformat": 4,
 "nbformat_minor": 2
}

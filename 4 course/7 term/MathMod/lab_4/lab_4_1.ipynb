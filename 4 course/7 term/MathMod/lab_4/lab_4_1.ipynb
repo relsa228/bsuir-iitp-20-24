{
 "cells": [
  {
   "cell_type": "markdown",
   "metadata": {},
   "source": [
    "#### Лабораторная работа 4. Моделирование СМО. Теоретические исследования\n",
    "\n",
    "Автозаправочная станция (АЗС) имеет две колонки (п = 2); площадка возле нее допускает одновременное ожидание не более четырех автомобилей (L = 4). Поток автомобилей, прибывающих на станцию, простейший с интенсивностью X = 1 авт/мин. Время обслуживания автомобиля — показательное со средним значением to6c = 2 мин. Найти финальные вероятности состояний АЗС и ее характеристики: A, Q, POTK, A, среднее число заявки в очереди, среднее время пребывания заявки в системе.\n",
    "\n",
    "$--------------------------------------------$"
   ]
  },
  {
   "cell_type": "code",
   "execution_count": 161,
   "metadata": {},
   "outputs": [],
   "source": [
    "from sympy import symbols, solve, simplify"
   ]
  },
  {
   "cell_type": "markdown",
   "metadata": {},
   "source": [
    "<b>1. Инициализация переменных.</b> Объявим переменные, полученные из условия задачи"
   ]
  },
  {
   "cell_type": "code",
   "execution_count": 162,
   "metadata": {},
   "outputs": [],
   "source": [
    "p0, p1, p2, p3, p4, p5, p6 = symbols('p0 p1 p2 p3 p4 p5 p6')\n",
    "X = 1  # интенсивность входного потока\n",
    "t_obs = 2  # среднее время обслуживания\n",
    "mu = 1 / t_obs  # интенсивность обслуживания"
   ]
  },
  {
   "cell_type": "markdown",
   "metadata": {},
   "source": [
    "<b>2. Расчет вероятностей $P_{i}$</b>. Составим систему уравнений, их которой найдем вероятности нахождения модели в каждом из своих шести состояний."
   ]
  },
  {
   "cell_type": "code",
   "execution_count": 163,
   "metadata": {},
   "outputs": [
    {
     "name": "stdout",
     "output_type": "stream",
     "text": [
      "p0 = 0.0769230769230769,\n",
      "p1 = 0.153846153846154,\n",
      "p2 = 0.153846153846154,\n",
      "p3 = 0.153846153846154,\n",
      "p4 = 0.153846153846154,\n",
      "p5 = 0.153846153846154,\n",
      "p6 = 0.153846153846154\n"
     ]
    },
    {
     "data": {
      "text/latex": [
       "$\\displaystyle 1.0$"
      ],
      "text/plain": [
       "1.00000000000000"
      ]
     },
     "execution_count": 163,
     "metadata": {},
     "output_type": "execute_result"
    }
   ],
   "source": [
    "eq1 = p0 + p1 + p2 + p3 + p4 + p5 + p6 - 1\n",
    "eq2 = p1 - X * p0 / mu\n",
    "eq3 = p2 - X * p1 / (2 * mu)\n",
    "eq4 = p3 - X * p2 / (2 * mu)\n",
    "eq5 = p4 - X * p3 / (2 * mu)\n",
    "eq6 = p5 - X * p4 / (2 * mu)\n",
    "eq7 = p6 - X * p5 / (2 * mu)\n",
    "\n",
    "sol = solve((eq1, eq2, eq3, eq4, eq5, eq6, eq7), (p0, p1, p2, p3, p4, p5, p6))\n",
    "\n",
    "print(f'p0 = {sol[p0]},\\np1 = {sol[p1]},\\np2 = {sol[p2]},\\np3 = {sol[p3]},\\np4 = {sol[p4]},\\np5 = {sol[p5]},\\np6 = {sol[p6]}')\n",
    "\n",
    "check = sol[p0] + sol[p1] + sol[p2] + sol[p3] + sol[p4] + sol[p5] + sol[p6]\n",
    "check"
   ]
  },
  {
   "cell_type": "markdown",
   "metadata": {},
   "source": [
    "<b>3. Расчет характеристик системы.</b> Определим искомые характеристики системы"
   ]
  },
  {
   "cell_type": "code",
   "execution_count": 164,
   "metadata": {},
   "outputs": [],
   "source": [
    "A = X * (1 - sol[p6])\n",
    "Q = A / X\n",
    "P_otk = sol[p6]\n",
    "k = sum([i * sol[symbols('p' + str(i))] for i in range(7)])\n",
    "L_queue = k - A\n",
    "w = k / X"
   ]
  },
  {
   "cell_type": "markdown",
   "metadata": {},
   "source": [
    "<b>Абсолютная пропускная способность системы.</b> То есть среднее количество заявок, обслуживаемых системой в единицу времени."
   ]
  },
  {
   "cell_type": "code",
   "execution_count": 165,
   "metadata": {},
   "outputs": [
    {
     "data": {
      "text/latex": [
       "$\\displaystyle 0.846153846153846$"
      ],
      "text/plain": [
       "0.846153846153846"
      ]
     },
     "execution_count": 165,
     "metadata": {},
     "output_type": "execute_result"
    }
   ],
   "source": [
    "A"
   ]
  },
  {
   "cell_type": "markdown",
   "metadata": {},
   "source": [
    "<b>Относительная пропускная способность системы.</b> То есть доля заявок, которые система способна обработать."
   ]
  },
  {
   "cell_type": "code",
   "execution_count": 166,
   "metadata": {},
   "outputs": [
    {
     "data": {
      "text/latex": [
       "$\\displaystyle 0.846153846153846$"
      ],
      "text/plain": [
       "0.846153846153846"
      ]
     },
     "execution_count": 166,
     "metadata": {},
     "output_type": "execute_result"
    }
   ],
   "source": [
    "Q"
   ]
  },
  {
   "cell_type": "markdown",
   "metadata": {},
   "source": [
    "<b>Вероятность отказа.</b> То есть вероятность того, что поступающая заявка будет отклонена, потому что в системе нет места для ее обработки."
   ]
  },
  {
   "cell_type": "code",
   "execution_count": 167,
   "metadata": {},
   "outputs": [
    {
     "data": {
      "text/latex": [
       "$\\displaystyle 0.153846153846154$"
      ],
      "text/plain": [
       "0.153846153846154"
      ]
     },
     "execution_count": 167,
     "metadata": {},
     "output_type": "execute_result"
    }
   ],
   "source": [
    "P_otk"
   ]
  },
  {
   "cell_type": "markdown",
   "metadata": {},
   "source": [
    "<b>Среднее число заявок в системе.</b> То есть среднее общее количество заявок, находящихся в системе (включая заявки, которые обслуживаются, и заявки, которые ожидают в очереди)."
   ]
  },
  {
   "cell_type": "code",
   "execution_count": 168,
   "metadata": {},
   "outputs": [
    {
     "data": {
      "text/latex": [
       "$\\displaystyle 3.23076923076923$"
      ],
      "text/plain": [
       "3.23076923076923"
      ]
     },
     "execution_count": 168,
     "metadata": {},
     "output_type": "execute_result"
    }
   ],
   "source": [
    "k"
   ]
  },
  {
   "cell_type": "markdown",
   "metadata": {},
   "source": [
    "<b>Среднее число заявок в очереди.</b> То есть среднее количество заявок, ожидающих обработки."
   ]
  },
  {
   "cell_type": "code",
   "execution_count": 169,
   "metadata": {},
   "outputs": [
    {
     "data": {
      "text/latex": [
       "$\\displaystyle 2.38461538461538$"
      ],
      "text/plain": [
       "2.38461538461538"
      ]
     },
     "execution_count": 169,
     "metadata": {},
     "output_type": "execute_result"
    }
   ],
   "source": [
    "L_queue"
   ]
  },
  {
   "cell_type": "markdown",
   "metadata": {},
   "source": [
    "<b>Среднее время пребывания заявки в системе.</b> В это значение включено время ожидания в очереди и время обслуживания."
   ]
  },
  {
   "cell_type": "code",
   "execution_count": 170,
   "metadata": {},
   "outputs": [
    {
     "data": {
      "text/latex": [
       "$\\displaystyle 3.23076923076923$"
      ],
      "text/plain": [
       "3.23076923076923"
      ]
     },
     "execution_count": 170,
     "metadata": {},
     "output_type": "execute_result"
    }
   ],
   "source": [
    "w"
   ]
  }
 ],
 "metadata": {
  "kernelspec": {
   "display_name": "lab_3",
   "language": "python",
   "name": "python3"
  },
  "language_info": {
   "codemirror_mode": {
    "name": "ipython",
    "version": 3
   },
   "file_extension": ".py",
   "mimetype": "text/x-python",
   "name": "python",
   "nbconvert_exporter": "python",
   "pygments_lexer": "ipython3",
   "version": "3.11.5"
  },
  "orig_nbformat": 4
 },
 "nbformat": 4,
 "nbformat_minor": 2
}
